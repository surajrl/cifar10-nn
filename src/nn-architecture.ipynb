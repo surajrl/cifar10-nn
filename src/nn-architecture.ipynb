{
  "cells": [
    {
      "cell_type": "markdown",
      "metadata": {
        "id": "bYh_GVraWdJG"
      },
      "source": [
        "Use GPU if available"
      ]
    },
    {
      "cell_type": "code",
      "execution_count": 1,
      "metadata": {
        "colab": {
          "base_uri": "https://localhost:8080/"
        },
        "id": "21hnF7ao0MEv",
        "outputId": "844ac87f-75f8-4ed4-e4c7-cdc3f866e044",
        "tags": []
      },
      "outputs": [
        {
          "name": "stdout",
          "output_type": "stream",
          "text": [
            "Using cuda device\n"
          ]
        }
      ],
      "source": [
        "import torch\n",
        "\n",
        "device = (\n",
        "    \"cuda\"\n",
        "    if torch.cuda.is_available()\n",
        "    else \"mps\"\n",
        "    if torch.backends.mps.is_available()\n",
        "    else \"cpu\"\n",
        "    )\n",
        "\n",
        "print(f\"Using {device} device\")"
      ]
    },
    {
      "cell_type": "markdown",
      "metadata": {
        "id": "ctVFVh_7-0b6"
      },
      "source": [
        "Load CIFAR10 dataset"
      ]
    },
    {
      "cell_type": "code",
      "execution_count": 2,
      "metadata": {
        "colab": {
          "base_uri": "https://localhost:8080/"
        },
        "id": "Ku2V2SEU-wwy",
        "outputId": "2ac348ed-858b-47fc-846d-ef4b2001030c",
        "tags": []
      },
      "outputs": [
        {
          "name": "stdout",
          "output_type": "stream",
          "text": [
            "Files already downloaded and verified\n",
            "Files already downloaded and verified\n"
          ]
        }
      ],
      "source": [
        "import torchvision\n",
        "import torchvision.transforms as transforms\n",
        "\n",
        "MINI_BATCH_SIZE = 128\n",
        "\n",
        "transform = transforms.Compose(\n",
        "    [transforms.ToTensor()]\n",
        "    )\n",
        "\n",
        "trainset = torchvision.datasets.CIFAR10(\n",
        "    root=\"./data\",\n",
        "    train=True,\n",
        "    download=True,\n",
        "    transform=transform\n",
        "    )\n",
        "\n",
        "trainloader = torch.utils.data.DataLoader(\n",
        "    trainset,\n",
        "    batch_size=MINI_BATCH_SIZE,\n",
        "    shuffle=True, # reshuffle data at every epoch\n",
        "    num_workers=2\n",
        "    )\n",
        "\n",
        "testset = torchvision.datasets.CIFAR10(\n",
        "    root=\"./data\",\n",
        "    train=False,\n",
        "    download=True,\n",
        "    transform=transform\n",
        "    )\n",
        "\n",
        "testloader = torch.utils.data.DataLoader(\n",
        "    testset,\n",
        "    batch_size=MINI_BATCH_SIZE,\n",
        "    shuffle=False,\n",
        "    num_workers=2\n",
        "    )\n",
        "\n",
        "classes = (\"plane\", \"car\", \"bird\", \"cat\", \"deer\",\n",
        "           \"dog\", \"frog\", \"horse\", \"ship\", \"truck\")"
      ]
    },
    {
      "cell_type": "markdown",
      "metadata": {
        "id": "UAwN5w5v1aGK"
      },
      "source": [
        "Define the neural network"
      ]
    },
    {
      "cell_type": "code",
      "execution_count": 3,
      "metadata": {
        "id": "GRLmbYxLzdgZ",
        "tags": []
      },
      "outputs": [],
      "source": [
        "import torch.nn as nn\n",
        "import torch.nn.functional as F\n",
        "\n",
        "def conv_block(in_channels, out_channels, pool=False):\n",
        "    layers = [nn.Conv2d(in_channels, out_channels, kernel_size=3, padding=1), \n",
        "              nn.BatchNorm2d(out_channels), \n",
        "              nn.ReLU(inplace=True)]\n",
        "    if pool: layers.append(nn.MaxPool2d(2))\n",
        "    return nn.Sequential(*layers)\n",
        "\n",
        "class Net(nn.Module):\n",
        "    def __init__(self):\n",
        "        super().__init__()\n",
        "        \n",
        "        self.conv1 = conv_block(3, 64)\n",
        "        self.conv2 = conv_block(64, 128, pool=True)\n",
        "        \n",
        "        self.res1 = nn.Sequential(conv_block(128, 128), conv_block(128, 128))\n",
        "        \n",
        "        self.conv3 = conv_block(128, 256, pool=True)\n",
        "        self.conv4 = conv_block(256, 512, pool=True)\n",
        "        \n",
        "        self.res2 = nn.Sequential(conv_block(512, 512), conv_block(512, 512))\n",
        "        \n",
        "        self.out = nn.Linear(512, 10)\n",
        "    \n",
        "    def forward(self, x):\n",
        "        x = self.conv1(x)\n",
        "        x = self.conv2(x)\n",
        "\n",
        "        x = self.res1(x) + x\n",
        "        \n",
        "        x = self.conv3(x)\n",
        "        x = self.conv4(x)\n",
        "        \n",
        "        x = self.res2(x) + x\n",
        "        \n",
        "        x = F.max_pool2d(x, kernel_size=4)\n",
        "        x = torch.flatten(x, 1) # flatten all dimensions except batch\n",
        "        x = self.out(x)\n",
        "\n",
        "        return x"
      ]
    },
    {
      "cell_type": "markdown",
      "metadata": {
        "id": "tmVLEC-DuEPX"
      },
      "source": [
        "Function definitions to train, test, and freeze the parameters of the neural network"
      ]
    },
    {
      "cell_type": "code",
      "execution_count": 4,
      "metadata": {
        "id": "9WXa-hVGuEPX"
      },
      "outputs": [],
      "source": [
        "import matplotlib.pyplot as plt\n",
        "import numpy as np\n",
        "\n",
        "''' Train the neural network using backpropagation with cross entropy as the loss function '''\n",
        "def train_nn(net: nn.Module, epochs: int, optimizer: torch.optim.Optimizer):\n",
        "  print(f'Initialising training ...')\n",
        "  print(f'- Epochs: {epochs}')\n",
        "  print(f'- Mini batch size: {MINI_BATCH_SIZE}')\n",
        "  print(f'- Optimiser: {optimizer}')\n",
        "  print(f'- Loss function: {F.cross_entropy.__name__}')\n",
        "\n",
        "  evaluation_loss_track = []\n",
        "  running_loss_track = []\n",
        "  accuracy_track = []\n",
        "\n",
        "  # loop over the dataset multiple times\n",
        "  for epoch in range(epochs):\n",
        "    running_loss = 0\n",
        "\n",
        "    # loop over the dataset and get mini-batch\n",
        "    for mini_batch in trainloader:\n",
        "      images = mini_batch[0].to(device)\n",
        "      labels = mini_batch[1].to(device)\n",
        "\n",
        "      optimizer.zero_grad() # zero the parameter gradients\n",
        "\n",
        "      preds = net(images) # forward mini-batch\n",
        "\n",
        "      loss = F.cross_entropy(preds, labels) # calculate loss\n",
        "      loss.backward() # calculate gradients with respect to each weight\n",
        "      optimizer.step() # update weights\n",
        "\n",
        "      running_loss += loss.item()\n",
        "\n",
        "      # track\n",
        "      evaluation_loss_track.append(loss.item())\n",
        "\n",
        "    accuracy = test_nn(net=net, verbose=False)\n",
        "    print(f'\\nEpoch {epoch} finished -- Running loss {running_loss} -- Accuracy {accuracy}')\n",
        "\n",
        "    # track\n",
        "    running_loss_track.append(running_loss)\n",
        "    accuracy_track.append(accuracy)\n",
        "\n",
        "  # plot\n",
        "  fig, ax1 = plt.subplots()\n",
        "\n",
        "  ax1.set_xlabel('Iterations over entire dataset (Epoch)')\n",
        "  \n",
        "  ax1.set_ylabel('Accuracy', color='b')\n",
        "  ax1.plot(np.array(accuracy_track), '--b', label='Accuracy', linewidth=0.5)\n",
        "\n",
        "  ax2 = ax1.twinx()\n",
        "  ax2.set_ylabel('Running loss per epoch', color='r')\n",
        "  ax2.plot(np.array(running_loss_track), '--r', label='Loss per epoch', linewidth=0.5)\n",
        "\n",
        "  fig.tight_layout()\n",
        "  fig.legend()\n",
        "  plt.show()\n",
        "\n",
        "''' Test the neural network '''\n",
        "def test_nn(net: nn.Module, verbose: bool):\n",
        "    # test the neural network\n",
        "    correct = 0\n",
        "    total = 0\n",
        "    # since we're not training, we don't need to calculate the gradients for our outputs\n",
        "    with torch.no_grad():\n",
        "        for data in testloader:\n",
        "            images = data[0].to(device)\n",
        "            labels = data[1].to(device)\n",
        "\n",
        "            # calculate outputs by running images through the network\n",
        "            outputs = net(images)\n",
        "            # the class with the highest energy is what we choose as prediction\n",
        "            _, predicted = torch.max(outputs.data, 1)\n",
        "            total += labels.size(0)\n",
        "            correct += (predicted == labels).sum().item()\n",
        "\n",
        "    accuracy = 100 * correct // total\n",
        "\n",
        "    if verbose:\n",
        "        print('Testing on 10,000 test images ...')\n",
        "        print(f'- Correct: {correct}')\n",
        "        print(f'- Total: {total}')\n",
        "        print(f'- Accuracy: {accuracy}')\n",
        "\n",
        "    return accuracy\n",
        "\n",
        "''' Freeze all the parameters except the last layer and randomize last layer '''\n",
        "def freeze_parameters(net: nn.Module):\n",
        "    # freeze all the parameters in the NN\n",
        "    for param in net.parameters():\n",
        "        param.requires_grad = False\n",
        "\n",
        "    # unfreeze all the parameters from the last layer and randomise the weights\n",
        "    for param in net.out.parameters():\n",
        "        param.requires_grad = True\n",
        "        param.data = torch.rand(param.size(), device=device)"
      ]
    },
    {
      "cell_type": "markdown",
      "metadata": {
        "id": "t1nbp-N4qtIg"
      },
      "source": [
        "Train the entire neural network"
      ]
    },
    {
      "cell_type": "code",
      "execution_count": 5,
      "metadata": {
        "colab": {
          "base_uri": "https://localhost:8080/",
          "height": 1000
        },
        "id": "KC8q-C6-qrlU",
        "outputId": "19cd94ee-4952-405e-edf2-51c662cb8cac",
        "tags": []
      },
      "outputs": [
        {
          "name": "stdout",
          "output_type": "stream",
          "text": [
            "Initialising training ...\n",
            "- Epochs: 15\n",
            "- Mini batch size: 128\n",
            "- Optimiser: SGD (\n",
            "Parameter Group 0\n",
            "    dampening: 0\n",
            "    differentiable: False\n",
            "    foreach: None\n",
            "    lr: 0.01\n",
            "    maximize: False\n",
            "    momentum: 0.0\n",
            "    nesterov: False\n",
            "    weight_decay: 0\n",
            ")\n",
            "- Loss function: cross_entropy\n",
            "\n",
            "Epoch 0 finished -- Running loss 726.2720959186554 -- Accuracy 50\n",
            "\n",
            "Epoch 1 finished -- Running loss 459.4628681540489 -- Accuracy 58\n",
            "\n",
            "Epoch 2 finished -- Running loss 350.14074742794037 -- Accuracy 70\n",
            "\n",
            "Epoch 3 finished -- Running loss 278.19030770659447 -- Accuracy 71\n",
            "\n",
            "Epoch 4 finished -- Running loss 219.409139752388 -- Accuracy 75\n",
            "\n",
            "Epoch 5 finished -- Running loss 161.04677732288837 -- Accuracy 76\n",
            "\n",
            "Epoch 6 finished -- Running loss 117.04660829901695 -- Accuracy 79\n",
            "\n",
            "Epoch 7 finished -- Running loss 67.62799846380949 -- Accuracy 78\n",
            "\n",
            "Epoch 8 finished -- Running loss 32.33484409749508 -- Accuracy 81\n",
            "\n",
            "Epoch 9 finished -- Running loss 14.205308748409152 -- Accuracy 82\n",
            "\n",
            "Epoch 10 finished -- Running loss 7.1685682674869895 -- Accuracy 82\n",
            "\n",
            "Epoch 11 finished -- Running loss 4.47098475182429 -- Accuracy 83\n",
            "\n",
            "Epoch 12 finished -- Running loss 3.334414152428508 -- Accuracy 83\n",
            "\n",
            "Epoch 13 finished -- Running loss 2.577603807207197 -- Accuracy 83\n",
            "\n",
            "Epoch 14 finished -- Running loss 2.1740108483936638 -- Accuracy 83\n"
          ]
        },
        {
          "data": {
            "image/png": "[encoded data removed]",
            "text/plain": [
              "<Figure size 640x480 with 2 Axes>"
            ]
          },
          "metadata": {},
          "output_type": "display_data"
        },
        {
          "name": "stdout",
          "output_type": "stream",
          "text": [
            "Testing on 10,000 test images ...\n",
            "- Correct: 8335\n",
            "- Total: 10000\n",
            "- Accuracy: 83\n"
          ]
        },
        {
          "data": {
            "text/plain": [
              "83"
            ]
          },
          "execution_count": 5,
          "metadata": {},
          "output_type": "execute_result"
        }
      ],
      "source": [
        "import torch\n",
        "\n",
        "# create a new neural network\n",
        "torch.manual_seed(1)\n",
        "net = Net()\n",
        "net.to(device)\n",
        "\n",
        "optimizer = torch.optim.SGD(net.parameters(), lr=0.01, momentum=0.0)\n",
        "\n",
        "train_nn(net=net, epochs=15, optimizer=optimizer)\n",
        "test_nn(net=net, verbose=True)"
      ]
    },
    {
      "cell_type": "markdown",
      "metadata": {
        "id": "UbW7JJYtuEPb"
      },
      "source": [
        "Save the neural network model"
      ]
    },
    {
      "cell_type": "code",
      "execution_count": 6,
      "metadata": {
        "id": "u9SQ0ZpEuEPc"
      },
      "outputs": [],
      "source": [
        "# PATH = \"./nn-models/cifar10-nn-model\"\n",
        "# torch.save(net.state_dict(), PATH)"
      ]
    },
    {
      "cell_type": "markdown",
      "metadata": {
        "id": "rZg0f1favdZG"
      },
      "source": [
        "Load the pre-trained neural network model"
      ]
    },
    {
      "cell_type": "code",
      "execution_count": 7,
      "metadata": {
        "colab": {
          "base_uri": "https://localhost:8080/"
        },
        "id": "WW2P48vcvZYy",
        "outputId": "400f3e1b-fe15-4aab-a0f6-bab4fb06c48a"
      },
      "outputs": [
        {
          "name": "stdout",
          "output_type": "stream",
          "text": [
            "Testing on 10,000 test images ...\n",
            "- Correct: 8335\n",
            "- Total: 10000\n",
            "- Accuracy: 83\n"
          ]
        },
        {
          "data": {
            "text/plain": [
              "83"
            ]
          },
          "execution_count": 7,
          "metadata": {},
          "output_type": "execute_result"
        }
      ],
      "source": [
        "PATH = \"./nn-models/cifar10-nn-model\"\n",
        "\n",
        "# load the pretrained NN model\n",
        "net = Net()\n",
        "net.load_state_dict(torch.load(PATH))\n",
        "net.to(device=device)\n",
        "\n",
        "test_nn(net=net, verbose=True)"
      ]
    }
  ],
  "metadata": {
    "accelerator": "GPU",
    "colab": {
      "gpuType": "T4",
      "provenance": []
    },
    "kernelspec": {
      "display_name": "Python 3",
      "name": "python3"
    },
    "language_info": {
      "codemirror_mode": {
        "name": "ipython",
        "version": 3
      },
      "file_extension": ".py",
      "mimetype": "text/x-python",
      "name": "python",
      "nbconvert_exporter": "python",
      "pygments_lexer": "ipython3",
      "version": "3.10.12"
    },
    "vscode": {
      "interpreter": {
        "hash": "31f2aee4e71d21fbe5cf8b01ff0e069b9275f58929596ceb00d14d90e3e16cd6"
      }
    }
  },
  "nbformat": 4,
  "nbformat_minor": 0
}
