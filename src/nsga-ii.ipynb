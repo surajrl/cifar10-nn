{
  "cells": [
    {
      "cell_type": "code",
      "source": [
        "from google.colab import drive\n",
        "drive.mount('/content/drive')\n",
        "\n",
        "!pip install deap"
      ],
      "metadata": {
        "id": "DeVTBlrPUGZb",
        "outputId": "38eca3cd-6acf-402a-83b1-ab0ea6c5baf6",
        "colab": {
          "base_uri": "https://localhost:8080/"
        }
      },
      "execution_count": 45,
      "outputs": [
        {
          "output_type": "stream",
          "name": "stdout",
          "text": [
            "Drive already mounted at /content/drive; to attempt to forcibly remount, call drive.mount(\"/content/drive\", force_remount=True).\n",
            "Requirement already satisfied: deap in /usr/local/lib/python3.10/dist-packages (1.4.1)\n",
            "Requirement already satisfied: numpy in /usr/local/lib/python3.10/dist-packages (from deap) (1.23.5)\n"
          ]
        }
      ]
    },
    {
      "cell_type": "markdown",
      "metadata": {
        "id": "k-JCYKE-TxJi"
      },
      "source": [
        "Define the neural network architecture, load the dataset and define train, test and freeze functions"
      ]
    },
    {
      "cell_type": "code",
      "execution_count": 46,
      "metadata": {
        "id": "wYdPvpLuTxJn",
        "outputId": "08521698-48b5-4d68-af31-f855d1a7f643",
        "colab": {
          "base_uri": "https://localhost:8080/"
        }
      },
      "outputs": [
        {
          "output_type": "stream",
          "name": "stdout",
          "text": [
            "Using cuda device\n",
            "Files already downloaded and verified\n",
            "Files already downloaded and verified\n"
          ]
        }
      ],
      "source": [
        "import torch\n",
        "import torch.nn as nn\n",
        "import torch.nn.functional as F\n",
        "\n",
        "device = (\n",
        "    \"cuda\"\n",
        "    if torch.cuda.is_available()\n",
        "    else \"mps\"\n",
        "    if torch.backends.mps.is_available()\n",
        "    else \"cpu\"\n",
        "    )\n",
        "\n",
        "print(f\"Using {device} device\")\n",
        "\n",
        "# Define the neural network architecture\n",
        "\n",
        "def conv_block(in_channels, out_channels, pool=False):\n",
        "    layers = [nn.Conv2d(in_channels, out_channels, kernel_size=3, padding=1),\n",
        "              nn.BatchNorm2d(out_channels),\n",
        "              nn.ReLU(inplace=True)]\n",
        "    if pool: layers.append(nn.MaxPool2d(2))\n",
        "    return nn.Sequential(*layers)\n",
        "\n",
        "class Net(nn.Module):\n",
        "    def __init__(self):\n",
        "        super().__init__()\n",
        "\n",
        "        self.conv1 = conv_block(3, 64)\n",
        "        self.conv2 = conv_block(64, 128, pool=True)\n",
        "\n",
        "        self.res1 = nn.Sequential(conv_block(128, 128), conv_block(128, 128))\n",
        "\n",
        "        self.conv3 = conv_block(128, 256, pool=True)\n",
        "        self.conv4 = conv_block(256, 512, pool=True)\n",
        "\n",
        "        self.res2 = nn.Sequential(conv_block(512, 512), conv_block(512, 512))\n",
        "\n",
        "        self.out = nn.Linear(512, 10)\n",
        "\n",
        "    def forward(self, x):\n",
        "        x = self.conv1(x)\n",
        "        x = self.conv2(x)\n",
        "\n",
        "        x = self.res1(x) + x\n",
        "\n",
        "        x = self.conv3(x)\n",
        "        x = self.conv4(x)\n",
        "\n",
        "        x = self.res2(x) + x\n",
        "\n",
        "        x = F.max_pool2d(x, kernel_size=4)\n",
        "        x = torch.flatten(x, 1) # flatten all dimensions except batch\n",
        "        x = self.out(x)\n",
        "\n",
        "        return x\n",
        "\n",
        "# Load the dataset\n",
        "\n",
        "import torchvision\n",
        "import torchvision.transforms as transforms\n",
        "\n",
        "MINI_BATCH_SIZE = 128\n",
        "\n",
        "transform = transforms.Compose(\n",
        "    [transforms.ToTensor()]\n",
        "    )\n",
        "\n",
        "trainset = torchvision.datasets.CIFAR10(\n",
        "    root=\"./data\",\n",
        "    train=True,\n",
        "    download=True,\n",
        "    transform=transform\n",
        "    )\n",
        "\n",
        "trainloader = torch.utils.data.DataLoader(\n",
        "    trainset,\n",
        "    batch_size=MINI_BATCH_SIZE,\n",
        "    shuffle=True, # reshuffle data at every epoch\n",
        "    num_workers=2\n",
        "    )\n",
        "\n",
        "testset = torchvision.datasets.CIFAR10(\n",
        "    root=\"./data\",\n",
        "    train=False,\n",
        "    download=True,\n",
        "    transform=transform\n",
        "    )\n",
        "\n",
        "testloader = torch.utils.data.DataLoader(\n",
        "    testset,\n",
        "    batch_size=MINI_BATCH_SIZE,\n",
        "    shuffle=False,\n",
        "    num_workers=2\n",
        "    )\n",
        "\n",
        "classes = (\"plane\", \"car\", \"bird\", \"cat\", \"deer\",\n",
        "           \"dog\", \"frog\", \"horse\", \"ship\", \"truck\")\n",
        "\n",
        "# Function definitions to train, test, and freeze the parameters of the neural network\n",
        "\n",
        "import matplotlib.pyplot as plt\n",
        "import numpy as np\n",
        "\n",
        "''' Train the neural network using backpropagation with cross entropy as the loss function '''\n",
        "def train_nn(net: nn.Module, epochs: int, optimizer: torch.optim.Optimizer):\n",
        "  print(f'Initialising training ...')\n",
        "  print(f'- Epochs: {epochs}')\n",
        "  print(f'- Mini batch size: {MINI_BATCH_SIZE}')\n",
        "  print(f'- Optimiser: {optimizer}')\n",
        "  print(f'- Loss function: {F.cross_entropy.__name__}')\n",
        "\n",
        "  evaluation_loss_track = []\n",
        "  running_loss_track = []\n",
        "  accuracy_track = []\n",
        "\n",
        "  # loop over the dataset multiple times\n",
        "  for epoch in range(epochs):\n",
        "    running_loss = 0\n",
        "\n",
        "    # loop over the dataset and get mini-batch\n",
        "    for mini_batch in trainloader:\n",
        "      images = mini_batch[0].to(device)\n",
        "      labels = mini_batch[1].to(device)\n",
        "\n",
        "      optimizer.zero_grad() # zero the parameter gradients\n",
        "\n",
        "      preds = net(images) # forward mini-batch\n",
        "\n",
        "      loss = F.cross_entropy(preds, labels) # calculate loss\n",
        "      loss.backward() # calculate gradients with respect to each weight\n",
        "      optimizer.step() # update weights\n",
        "\n",
        "      running_loss += loss.item()\n",
        "\n",
        "      # track\n",
        "      evaluation_loss_track.append(loss.item())\n",
        "\n",
        "    accuracy = test_nn(net=net, verbose=False)\n",
        "    print(f'\\nEpoch {epoch} finished -- Running loss {running_loss} -- Accuracy {accuracy}')\n",
        "\n",
        "    # track\n",
        "    running_loss_track.append(running_loss)\n",
        "    accuracy_track.append(accuracy)\n",
        "\n",
        "  # plot\n",
        "  fig, ax1 = plt.subplots()\n",
        "\n",
        "  ax1.set_xlabel('Iterations over entire dataset (Epoch)')\n",
        "\n",
        "  ax1.set_ylabel('Accuracy', color='b')\n",
        "  ax1.plot(np.array(accuracy_track), '--b', label='Accuracy', linewidth=0.5)\n",
        "\n",
        "  ax2 = ax1.twinx()\n",
        "  ax2.set_ylabel('Running loss per epoch', color='r')\n",
        "  ax2.plot(np.array(running_loss_track), '--r', label='Loss per epoch', linewidth=0.5)\n",
        "\n",
        "  fig.tight_layout()\n",
        "  fig.legend()\n",
        "  plt.show()\n",
        "\n",
        "''' Test the neural network '''\n",
        "def test_nn(net: nn.Module, verbose: bool):\n",
        "    # test the neural network\n",
        "    correct = 0\n",
        "    total = 0\n",
        "\n",
        "    # since we're not training, we don't need to calculate the gradients for our outputs\n",
        "    with torch.no_grad():\n",
        "        for data in testloader:\n",
        "            images = data[0].to(device)\n",
        "            labels = data[1].to(device)\n",
        "\n",
        "            # calculate outputs by running images through the network\n",
        "            outputs = net(images)\n",
        "            # the class with the highest energy is what we choose as prediction\n",
        "            _, predicted = torch.max(outputs.data, 1)\n",
        "            total += labels.size(0)\n",
        "            correct += (predicted == labels).sum().item()\n",
        "\n",
        "    accuracy = 100 * correct // total\n",
        "\n",
        "    if verbose:\n",
        "        print('Testing on 10,000 test images ...')\n",
        "        print(f'- Correct: {correct}')\n",
        "        print(f'- Total: {total}')\n",
        "        print(f'- Accuracy: {accuracy}')\n",
        "\n",
        "    return accuracy\n",
        "\n",
        "''' Freeze all the parameters except the last layer and randomize last layer '''\n",
        "def freeze_parameters(net: nn.Module):\n",
        "    # freeze all the parameters in the NN\n",
        "    for param in net.parameters():\n",
        "        param.requires_grad = False\n",
        "\n",
        "    # unfreeze all the parameters from the last layer and randomise the weights\n",
        "    for param in net.out.parameters():\n",
        "        param.requires_grad = True\n",
        "        param.data = torch.rand(param.size(), device=device)"
      ]
    },
    {
      "cell_type": "markdown",
      "metadata": {
        "id": "tCBgQfkbTxJw"
      },
      "source": [
        "Load the pre-trained neural network model and test it to check the accuracy"
      ]
    },
    {
      "cell_type": "code",
      "execution_count": 66,
      "metadata": {
        "id": "jIbh_Zf8TxJw",
        "outputId": "1fe74b13-c959-4211-e074-600ee593507c",
        "colab": {
          "base_uri": "https://localhost:8080/"
        }
      },
      "outputs": [
        {
          "output_type": "stream",
          "name": "stdout",
          "text": [
            "Testing on 10,000 test images ...\n",
            "- Correct: 8335\n",
            "- Total: 10000\n",
            "- Accuracy: 83\n"
          ]
        },
        {
          "output_type": "execute_result",
          "data": {
            "text/plain": [
              "83"
            ]
          },
          "metadata": {},
          "execution_count": 66
        }
      ],
      "source": [
        "PATH = './nn-models/cifar10-nn-model'\n",
        "\n",
        "torch.cuda.empty_cache()\n",
        "\n",
        "# load the pretrained NN model\n",
        "net = Net()\n",
        "net.load_state_dict(torch.load(PATH))\n",
        "net.to(device=device)\n",
        "\n",
        "test_nn(net=net, verbose=True)"
      ]
    },
    {
      "cell_type": "markdown",
      "metadata": {
        "id": "D0naLOfnTxJx"
      },
      "source": [
        "NSGA-II"
      ]
    },
    {
      "cell_type": "code",
      "execution_count": 68,
      "metadata": {
        "id": "tpA9dRqWTxJy",
        "outputId": "d815d811-b768-4f73-8b79-14b5964ca350",
        "colab": {
          "base_uri": "https://localhost:8080/"
        }
      },
      "outputs": [
        {
          "output_type": "stream",
          "name": "stdout",
          "text": [
            "generation 1 finished\n",
            "generation 2 finished\n",
            "generation 3 finished\n",
            "generation 4 finished\n",
            "generation 5 finished\n",
            "generation 6 finished\n",
            "generation 7 finished\n",
            "generation 8 finished\n",
            "generation 9 finished\n",
            "generation 10 finished\n",
            "generation 11 finished\n",
            "generation 12 finished\n",
            "generation 13 finished\n",
            "generation 14 finished\n"
          ]
        }
      ],
      "source": [
        "import array\n",
        "import random\n",
        "import json\n",
        "import numpy as np\n",
        "from deap import base\n",
        "from deap.benchmarks.tools import diversity, convergence, hypervolume\n",
        "from deap import creator\n",
        "from deap import tools\n",
        "import matplotlib.pyplot as plt\n",
        "\n",
        "freeze_parameters(net=net)\n",
        "\n",
        "LOW_BOUND = -0.1\n",
        "HIGH_BOUND = 0.3\n",
        "N_GENERATIONS = 15\n",
        "MU = 100\n",
        "CXPB = 0.9\n",
        "MUTATE_PROB = 0.1\n",
        "\n",
        "# store all the training dataset in a single batch\n",
        "ALL_IMAGES = []\n",
        "ALL_LABELS = []\n",
        "for batch in trainloader:\n",
        "    ALL_IMAGES.append(batch[0])\n",
        "    ALL_LABELS.append(batch[1])\n",
        "\n",
        "ALL_IMAGES = torch.cat(ALL_IMAGES)\n",
        "ALL_LABELS = torch.cat(ALL_LABELS)\n",
        "\n",
        "# count the number of dimensions of the last layer\n",
        "N_DIMENSION = 0\n",
        "for param in net.out.parameters():\n",
        "    N_DIMENSION += param.numel()\n",
        "\n",
        "# loss function\n",
        "def f1(individual):\n",
        "    # take the parameters from the individual and replace the last layer of the NN with them\n",
        "    parameters = torch.as_tensor(individual, dtype=torch.float32, device=device)\n",
        "\n",
        "    net.out.weight = torch.nn.Parameter(data=parameters[0:5120].reshape(10, 512))\n",
        "    net.out.bias = torch.nn.Parameter(data=parameters[5120:5130])\n",
        "\n",
        "    # no need to calculate the gradient\n",
        "    with torch.no_grad():\n",
        "        # get a mini-batch from the training dataset\n",
        "        images = ALL_IMAGES[0:1000].to(device=device)\n",
        "        labels = ALL_LABELS[0:1000].to(device=device)\n",
        "\n",
        "        preds = net(images) # forward mini-batch\n",
        "        loss = F.cross_entropy(preds, labels) # calculate loss\n",
        "\n",
        "    return loss.item()\n",
        "\n",
        "# Gaussian regulariser (sum of the square of the weights)\n",
        "def f2():\n",
        "    squared_weights = []\n",
        "    for param_name, param in net.named_parameters():\n",
        "        squared_weight = torch.square(param.data)\n",
        "        squared_weights.append(squared_weight)\n",
        "\n",
        "    sum = 0\n",
        "    for param in squared_weights:\n",
        "        sum += torch.sum(param)\n",
        "\n",
        "    return sum.detach().cpu().numpy()\n",
        "\n",
        "def obj(individual):\n",
        "    return (f1(individual=individual), f2())\n",
        "\n",
        "def uniform(low, up, size=None):\n",
        "    try:\n",
        "        return [random.uniform(a, b) for a, b in zip(low, up)]\n",
        "    except TypeError:\n",
        "        return [random.uniform(a, b) for a, b in zip([low] * size, [up] * size)]\n",
        "\n",
        "creator.create(\"FitnessMin\", base.Fitness, weights=(-1.0, -1.0))\n",
        "creator.create(\"Individual\", list, fitness=creator.FitnessMin)\n",
        "\n",
        "toolbox = base.Toolbox()\n",
        "\n",
        "toolbox.register(\"attr_float\", uniform, LOW_BOUND, HIGH_BOUND, N_DIMENSION)\n",
        "toolbox.register(\"individual\", tools.initIterate, creator.Individual, toolbox.attr_float)\n",
        "toolbox.register(\"population\", tools.initRepeat, list, toolbox.individual)\n",
        "\n",
        "toolbox.register(\"evaluate\", obj)\n",
        "toolbox.register(\"mate\", tools.cxSimulatedBinaryBounded, low=LOW_BOUND, up=HIGH_BOUND, eta=20.0)\n",
        "toolbox.register(\"mutate\", tools.mutPolynomialBounded, low=LOW_BOUND, up=HIGH_BOUND, eta=20.0, indpb=1.0/N_DIMENSION)\n",
        "toolbox.register(\"select\", tools.selNSGA2)\n",
        "\n",
        "def nsga_ii():\n",
        "    # generate initial random population of individuals (parameters)\n",
        "    pop = toolbox.population(n=MU)\n",
        "\n",
        "    gen_performance = []\n",
        "\n",
        "    # evaluate the individuals with an invalid fitness\n",
        "    invalid_ind = [ind for ind in pop if not ind.fitness.valid]\n",
        "    fitnesses = toolbox.map(toolbox.evaluate, invalid_ind)\n",
        "    for ind, fit in zip(invalid_ind, fitnesses):\n",
        "        ind.fitness.values = fit\n",
        "\n",
        "    # this is just to assign the crowding distance to\n",
        "    # the individuals no actual selection is done\n",
        "    pop = toolbox.select(pop, len(pop))\n",
        "\n",
        "    # begin the generational process\n",
        "    for gen in range(1, N_GENERATIONS):\n",
        "        # vary the population\n",
        "        offspring = tools.selTournamentDCD(pop, len(pop))\n",
        "\n",
        "        # selTournamentDCD means Tournament selection based on dominance (D)\n",
        "        # followed by crowding distance (CD). This selection requires the\n",
        "        # individuals to have a crowding_dist attribute\n",
        "        offspring = [toolbox.clone(ind) for ind in offspring]\n",
        "\n",
        "        # crossover make pairs of all (even, odd) in offspring\n",
        "        for ind1, ind2 in zip(offspring[::2], offspring[1::2]):\n",
        "            if random.random() <= CXPB:\n",
        "                toolbox.mate(ind1, ind2)\n",
        "                del ind1.fitness.values\n",
        "                del ind2.fitness.values\n",
        "\n",
        "        # mutation\n",
        "        for mutant in offspring:\n",
        "            if random.random() <= MUTATE_PROB:\n",
        "                toolbox.mutate(mutant)\n",
        "                del mutant.fitness.values\n",
        "\n",
        "        # evaluate the individuals with an invalid fitness\n",
        "        invalid_ind = [ind for ind in offspring if not ind.fitness.valid]\n",
        "        fitnesses = toolbox.map(toolbox.evaluate, invalid_ind)\n",
        "        for ind, fit in zip(invalid_ind, fitnesses):\n",
        "            ind.fitness.values = fit\n",
        "\n",
        "        # select the next generation population\n",
        "        pop = toolbox.select(pop + offspring, MU)\n",
        "        print(f'generation {gen} finished')\n",
        "\n",
        "        # gather all the fitnesses in one list and print the stats\n",
        "        fits = [ind.fitness.values[0] for ind in pop]\n",
        "        gen_performance.append(min(fits))\n",
        "\n",
        "    return pop, gen_performance\n",
        "\n",
        "pop, gen_performance = nsga_ii()"
      ]
    },
    {
      "cell_type": "code",
      "execution_count": 69,
      "metadata": {
        "id": "C4eKy0YUTxJ0",
        "outputId": "96e2f174-6230-4ebe-a783-10a055d82991",
        "colab": {
          "base_uri": "https://localhost:8080/",
          "height": 449
        }
      },
      "outputs": [
        {
          "output_type": "display_data",
          "data": {
            "text/plain": [
              "<Figure size 640x480 with 1 Axes>"
            ],
            "image/png": "[encoded data removed]"
          },
          "metadata": {}
        }
      ],
      "source": [
        "pop.sort(key=lambda x: x.fitness.values)\n",
        "\n",
        "front = np.array([ind.fitness.values for ind in pop])\n",
        "plt.scatter(front[:,0], front[:,1], c=\"b\")\n",
        "plt.axis(\"tight\")\n",
        "plt.xlabel('Loss function')\n",
        "plt.ylabel('Sum of the squared weights')\n",
        "plt.show()"
      ]
    },
    {
      "cell_type": "code",
      "execution_count": 74,
      "metadata": {
        "id": "WlzzXMBdTxJ1",
        "outputId": "6aa9224a-fb63-45e3-8748-8175b43e7499",
        "colab": {
          "base_uri": "https://localhost:8080/"
        }
      },
      "outputs": [
        {
          "output_type": "stream",
          "name": "stdout",
          "text": [
            "Testing on 10,000 test images ...\n",
            "- Correct: 1785\n",
            "- Total: 10000\n",
            "- Accuracy: 17\n"
          ]
        },
        {
          "output_type": "execute_result",
          "data": {
            "text/plain": [
              "[19.495969772338867,\n",
              " 18.214963912963867,\n",
              " 17.785911560058594,\n",
              " 19.976205825805664,\n",
              " 18.218990325927734,\n",
              " 19.199241638183594,\n",
              " 19.199241638183594,\n",
              " 15.825284004211426,\n",
              " 16.01860809326172,\n",
              " 16.01860809326172,\n",
              " 19.828527450561523,\n",
              " 18.034395217895508,\n",
              " 16.58751106262207,\n",
              " 16.58751106262207]"
            ]
          },
          "metadata": {},
          "execution_count": 74
        }
      ],
      "source": [
        "# put best parameters back into the neural network\n",
        "parameters = torch.as_tensor(pop[0], dtype=torch.float32, device=device)\n",
        "net.out.weight = torch.nn.Parameter(data=parameters[0:5120].reshape(10, 512))\n",
        "net.out.bias = torch.nn.Parameter(data=parameters[5120:5130])\n",
        "\n",
        "# test the neural network\n",
        "test_nn(net=net, verbose=True)\n",
        "\n",
        "gen_performance"
      ]
    }
  ],
  "metadata": {
    "kernelspec": {
      "display_name": "Python 3",
      "name": "python3"
    },
    "language_info": {
      "codemirror_mode": {
        "name": "ipython",
        "version": 3
      },
      "file_extension": ".py",
      "mimetype": "text/x-python",
      "name": "python",
      "nbconvert_exporter": "python",
      "pygments_lexer": "ipython3",
      "version": "3.10.12"
    },
    "orig_nbformat": 4,
    "vscode": {
      "interpreter": {
        "hash": "916dbcbb3f70747c44a77c7bcd40155683ae19c65e1c03b4aa3499c5328201f1"
      }
    },
    "colab": {
      "provenance": [],
      "gpuType": "T4"
    },
    "accelerator": "GPU"
  },
  "nbformat": 4,
  "nbformat_minor": 0
}