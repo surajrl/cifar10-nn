{
  "cells": [
    {
      "cell_type": "markdown",
      "metadata": {
        "id": "bYh_GVraWdJG"
      },
      "source": [
        "Use GPU if available"
      ]
    },
    {
      "cell_type": "code",
      "execution_count": 117,
      "metadata": {
        "colab": {
          "base_uri": "https://localhost:8080/"
        },
        "id": "21hnF7ao0MEv",
        "outputId": "8d2d7c60-bffc-4126-841e-8464c6f22910",
        "tags": []
      },
      "outputs": [
        {
          "output_type": "stream",
          "name": "stdout",
          "text": [
            "Using cuda device\n"
          ]
        }
      ],
      "source": [
        "import torch\n",
        "\n",
        "device = (\n",
        "    \"cuda\"\n",
        "    if torch.cuda.is_available()\n",
        "    else \"mps\"\n",
        "    if torch.backends.mps.is_available()\n",
        "    else \"cpu\"\n",
        "    )\n",
        "\n",
        "print(f\"Using {device} device\")"
      ]
    },
    {
      "cell_type": "markdown",
      "metadata": {
        "id": "ctVFVh_7-0b6"
      },
      "source": [
        "Load CIFAR10 dataset"
      ]
    },
    {
      "cell_type": "code",
      "execution_count": 118,
      "metadata": {
        "colab": {
          "base_uri": "https://localhost:8080/"
        },
        "id": "Ku2V2SEU-wwy",
        "outputId": "a12ee77f-64a8-443f-8c90-e0135f643c6e",
        "tags": []
      },
      "outputs": [
        {
          "output_type": "stream",
          "name": "stdout",
          "text": [
            "Files already downloaded and verified\n",
            "Files already downloaded and verified\n"
          ]
        }
      ],
      "source": [
        "import torch\n",
        "import torchvision\n",
        "import torchvision.transforms as transforms\n",
        "\n",
        "batch_size = 32\n",
        "\n",
        "transform = transforms.Compose(\n",
        "    [transforms.ToTensor()]\n",
        "    )\n",
        "\n",
        "trainset = torchvision.datasets.CIFAR10(\n",
        "    root=\"./data\",\n",
        "    train=True,\n",
        "    download=True,\n",
        "    transform=transform\n",
        "    )\n",
        "\n",
        "trainloader = torch.utils.data.DataLoader(\n",
        "    trainset,\n",
        "    batch_size=batch_size,\n",
        "    shuffle=True, # reshuffle data at every epoch\n",
        "    num_workers=2\n",
        "    )\n",
        "\n",
        "testset = torchvision.datasets.CIFAR10(\n",
        "    root=\"./data\",\n",
        "    train=False,\n",
        "    download=True,\n",
        "    transform=transform\n",
        "    )\n",
        "\n",
        "testloader = torch.utils.data.DataLoader(\n",
        "    testset,\n",
        "    batch_size=batch_size,\n",
        "    shuffle=False,\n",
        "    num_workers=2\n",
        "    )\n",
        "\n",
        "classes = (\"plane\", \"car\", \"bird\", \"cat\", \"deer\",\n",
        "           \"dog\", \"frog\", \"horse\", \"ship\", \"truck\")"
      ]
    },
    {
      "cell_type": "markdown",
      "metadata": {
        "id": "UAwN5w5v1aGK"
      },
      "source": [
        "Define the neural network"
      ]
    },
    {
      "cell_type": "code",
      "execution_count": 119,
      "metadata": {
        "id": "GRLmbYxLzdgZ",
        "tags": []
      },
      "outputs": [],
      "source": [
        "import torch\n",
        "import torch.nn as nn\n",
        "import torch.nn.functional as F\n",
        "\n",
        "class Net(nn.Module):\n",
        "    def __init__(self):\n",
        "        super().__init__()\n",
        "        self.conv1 = nn.Conv2d(3, 64, 5, stride=1, padding=2)\n",
        "        self.batchNorm1 = nn.BatchNorm2d(64)\n",
        "\n",
        "        self.conv2 = nn.Conv2d(64, 64, 5, stride=1, padding=2)\n",
        "        self.batchNorm2 = nn.BatchNorm2d(64)\n",
        "\n",
        "        self.conv3 = nn.Conv2d(64, 64, 5, stride=1, padding=2)\n",
        "        self.batchNorm3 = nn.BatchNorm2d(64)\n",
        "\n",
        "        self.fc1 = nn.Linear(4 * 4 * 64, 500)\n",
        "        self.batchNorm4 = nn.BatchNorm1d(500)\n",
        "\n",
        "        self.fc2 = nn.Linear(500, 10)\n",
        "\n",
        "    def forward(self, x):\n",
        "        x = self.conv1(x)\n",
        "        x = self.batchNorm1(x) # batch normalization\n",
        "        x = F.relu(x)\n",
        "        x = F.max_pool2d(x, kernel_size=2, stride=2)\n",
        "\n",
        "        x = self.conv2(x)\n",
        "        x = self.batchNorm2(x) # batch normalization\n",
        "        x = F.relu(x)\n",
        "        x = F.max_pool2d(x, kernel_size=2, stride=2)\n",
        "\n",
        "        x = self.conv3(x)\n",
        "        x = self.batchNorm3(x) # batch normalization\n",
        "        x = F.relu(x)\n",
        "        x = F.max_pool2d(x, kernel_size=2, stride=2)\n",
        "\n",
        "        x = torch.flatten(x, 1) # flatten all dimensions except batch\n",
        "\n",
        "        x = self.fc1(x)\n",
        "        x = self.batchNorm4(x) # batch normalization\n",
        "        x = F.relu(x)\n",
        "\n",
        "        x = F.dropout(x, p=0.5)\n",
        "        x = self.fc2(x)\n",
        "\n",
        "        return x\n"
      ]
    },
    {
      "cell_type": "markdown",
      "metadata": {
        "id": "9kdKH-zE-ftr"
      },
      "source": [
        "Define optimizer"
      ]
    },
    {
      "cell_type": "code",
      "execution_count": 120,
      "metadata": {
        "id": "FQOzookN9pQB",
        "tags": []
      },
      "outputs": [],
      "source": [
        "import torch.optim as optim\n",
        "import torch.nn as nn\n",
        "\n",
        "torch.manual_seed(1)\n",
        "model = Net()\n",
        "model.to(device)\n",
        "\n",
        "lr = 0.01\n",
        "optimizer = optim.SGD(model.parameters(), lr=lr, momentum=0.0) # mini batch gradient descent"
      ]
    },
    {
      "cell_type": "markdown",
      "metadata": {
        "id": "t1nbp-N4qtIg"
      },
      "source": [
        "Train the neural network"
      ]
    },
    {
      "cell_type": "code",
      "execution_count": 121,
      "metadata": {
        "colab": {
          "base_uri": "https://localhost:8080/",
          "height": 1000
        },
        "id": "KC8q-C6-qrlU",
        "outputId": "89a6e76c-c15c-4022-e388-fee3f20ea78b",
        "tags": []
      },
      "outputs": [
        {
          "output_type": "stream",
          "name": "stdout",
          "text": [
            "Epochs: 15\n",
            "Batch size: 32\n",
            "Learning rate: 0.01\n",
            "epoch: 0, total loss: 2114.4854140281677\n",
            "epoch: 1, total loss: 1585.0745528638363\n",
            "epoch: 2, total loss: 1362.6469706594944\n",
            "epoch: 3, total loss: 1233.971689850092\n",
            "epoch: 4, total loss: 1115.0759784579277\n",
            "epoch: 5, total loss: 1019.733223348856\n",
            "epoch: 6, total loss: 932.7230337113142\n",
            "epoch: 7, total loss: 861.1559426486492\n",
            "epoch: 8, total loss: 785.6879176646471\n",
            "epoch: 9, total loss: 730.2365639060736\n",
            "epoch: 10, total loss: 672.0067768618464\n",
            "epoch: 11, total loss: 628.0756278038025\n",
            "epoch: 12, total loss: 563.163843087852\n",
            "epoch: 13, total loss: 516.2096603959799\n",
            "epoch: 14, total loss: 469.9514710716903\n",
            "Finished training, time taken 285.0717427259997 seconds\n"
          ]
        },
        {
          "output_type": "display_data",
          "data": {
            "text/plain": [
              "<Figure size 640x480 with 1 Axes>"
            ],
            "image/png": "[encoded data removed]"
          },
          "metadata": {}
        },
        {
          "output_type": "display_data",
          "data": {
            "text/plain": [
              "<Figure size 640x480 with 1 Axes>"
            ],
            "image/png": "[encoded data removed]"
          },
          "metadata": {}
        }
      ],
      "source": [
        "import matplotlib.pyplot as plt\n",
        "import numpy as np\n",
        "import time\n",
        "\n",
        "total_loss_list = []\n",
        "loss_list = []\n",
        "epochs = 15\n",
        "start = time.perf_counter()\n",
        "\n",
        "print(\"Epochs: \" + str(epochs))\n",
        "print(\"Batch size: \" + str(batch_size))\n",
        "print(\"Learning rate: \" + str(lr))\n",
        "\n",
        "for epoch in range(epochs):  # loop over the dataset multiple times\n",
        "\n",
        "  total_loss = 0\n",
        "\n",
        "  # on each mini-batch, the model uses the same weigths for that current\n",
        "  # mini-batch, hence, the number of times the model weights will be updated\n",
        "  # is given by total_trainset / mini_batch_size\n",
        "\n",
        "  # loop over the dataset and get mini-batch\n",
        "  for mini_batch_num, data in enumerate(trainloader, 0):\n",
        "    images = data[0].to(device)\n",
        "    labels = data[1].to(device)\n",
        "\n",
        "    optimizer.zero_grad() # zero the parameter gradients\n",
        "\n",
        "    preds = model(images) # forward mini-batch\n",
        "    loss = F.cross_entropy(preds, labels) # calculate loss of all the mini-batch\n",
        "\n",
        "    loss_list.append(loss.item()) # track the loss\n",
        "\n",
        "    loss.backward() # calculate gradients with respect to each weight\n",
        "    optimizer.step() # update weights\n",
        "\n",
        "    total_loss += loss.item()\n",
        "\n",
        "  print(f\"epoch: {epoch}, total loss: {total_loss}\")\n",
        "  total_loss_list.append(total_loss)\n",
        "\n",
        "end = time.perf_counter()\n",
        "\n",
        "print(f\"Finished training, time taken {end-start} seconds\")\n",
        "\n",
        "# plot the loss rate\n",
        "plt.plot(np.array(loss_list), 'r')\n",
        "plt.ylabel(\"Loss\")\n",
        "plt.xlabel(\"Evaluations\")\n",
        "plt.show()\n",
        "plt.plot(np.array(total_loss_list), 'b')\n",
        "plt.ylabel(\"Total Loss\")\n",
        "plt.xlabel(\"Epoch\")\n",
        "plt.show()"
      ]
    },
    {
      "cell_type": "markdown",
      "metadata": {
        "id": "v7pEHP_9q2_V"
      },
      "source": [
        "Test the neural network"
      ]
    },
    {
      "cell_type": "code",
      "execution_count": 136,
      "metadata": {
        "colab": {
          "base_uri": "https://localhost:8080/"
        },
        "id": "iWvJ5LDhq2Xw",
        "outputId": "c0451310-2261-474f-93f2-145d68b5e6b9",
        "tags": []
      },
      "outputs": [
        {
          "output_type": "stream",
          "name": "stdout",
          "text": [
            "Accuracy of the network on the 10000 test images: 74 %\n"
          ]
        }
      ],
      "source": [
        "correct = 0\n",
        "total = 0\n",
        "\n",
        "# since we're not training, we don't need to calculate the gradients for our outputs\n",
        "with torch.no_grad():\n",
        "    for data in testloader:\n",
        "        images, labels = data[0].to(device), data[1].to(device)\n",
        "\n",
        "        # calculate outputs by running images through the network\n",
        "        outputs = model(images)\n",
        "        # the class with the highest energy is what we choose as prediction\n",
        "        _, predicted = torch.max(outputs.data, 1)\n",
        "        total += labels.size(0)\n",
        "        correct += (predicted == labels).sum().item()\n",
        "\n",
        "print(f\"Accuracy of the network on the 10000 test images: {100 * correct // total} %\")"
      ]
    },
    {
      "cell_type": "markdown",
      "metadata": {
        "id": "I9F89EzdDiwb"
      },
      "source": [
        "Save the model"
      ]
    },
    {
      "cell_type": "code",
      "execution_count": 123,
      "metadata": {
        "id": "XtrRdpppJ6T8"
      },
      "outputs": [],
      "source": [
        "PATH = \"./cifar10_model.pth\"\n",
        "# torch.save(model.state_dict(), PATH)"
      ]
    },
    {
      "cell_type": "markdown",
      "metadata": {
        "id": "2jK7WKoiD0sn"
      },
      "source": [
        "Load the model"
      ]
    },
    {
      "cell_type": "code",
      "execution_count": 135,
      "metadata": {
        "id": "mWBJUF_LD0F2",
        "outputId": "81aaf1a4-ff20-4154-c487-9c6ded577679",
        "colab": {
          "base_uri": "https://localhost:8080/"
        }
      },
      "outputs": [
        {
          "output_type": "execute_result",
          "data": {
            "text/plain": [
              "Net(\n",
              "  (conv1): Conv2d(3, 64, kernel_size=(5, 5), stride=(1, 1), padding=(2, 2))\n",
              "  (batchNorm1): BatchNorm2d(64, eps=1e-05, momentum=0.1, affine=True, track_running_stats=True)\n",
              "  (conv2): Conv2d(64, 64, kernel_size=(5, 5), stride=(1, 1), padding=(2, 2))\n",
              "  (batchNorm2): BatchNorm2d(64, eps=1e-05, momentum=0.1, affine=True, track_running_stats=True)\n",
              "  (conv3): Conv2d(64, 64, kernel_size=(5, 5), stride=(1, 1), padding=(2, 2))\n",
              "  (batchNorm3): BatchNorm2d(64, eps=1e-05, momentum=0.1, affine=True, track_running_stats=True)\n",
              "  (fc1): Linear(in_features=1024, out_features=500, bias=True)\n",
              "  (batchNorm4): BatchNorm1d(500, eps=1e-05, momentum=0.1, affine=True, track_running_stats=True)\n",
              "  (fc2): Linear(in_features=500, out_features=10, bias=True)\n",
              ")"
            ]
          },
          "metadata": {},
          "execution_count": 135
        }
      ],
      "source": [
        "model = Net()\n",
        "model.load_state_dict(torch.load(PATH))\n",
        "\n",
        "model.to(device)"
      ]
    },
    {
      "cell_type": "markdown",
      "metadata": {
        "id": "0bqa8r_gD5i-"
      },
      "source": [
        "Freeze all the weights except for the last layer"
      ]
    },
    {
      "cell_type": "code",
      "execution_count": 137,
      "metadata": {
        "id": "an3n2lu8D-bM",
        "outputId": "27eb0d0a-b03d-4713-b88a-45edeb9b5abe",
        "colab": {
          "base_uri": "https://localhost:8080/"
        }
      },
      "outputs": [
        {
          "output_type": "execute_result",
          "data": {
            "text/plain": [
              "Net(\n",
              "  (conv1): Conv2d(3, 64, kernel_size=(5, 5), stride=(1, 1), padding=(2, 2))\n",
              "  (batchNorm1): BatchNorm2d(64, eps=1e-05, momentum=0.1, affine=True, track_running_stats=True)\n",
              "  (conv2): Conv2d(64, 64, kernel_size=(5, 5), stride=(1, 1), padding=(2, 2))\n",
              "  (batchNorm2): BatchNorm2d(64, eps=1e-05, momentum=0.1, affine=True, track_running_stats=True)\n",
              "  (conv3): Conv2d(64, 64, kernel_size=(5, 5), stride=(1, 1), padding=(2, 2))\n",
              "  (batchNorm3): BatchNorm2d(64, eps=1e-05, momentum=0.1, affine=True, track_running_stats=True)\n",
              "  (fc1): Linear(in_features=1024, out_features=500, bias=True)\n",
              "  (batchNorm4): BatchNorm1d(500, eps=1e-05, momentum=0.1, affine=True, track_running_stats=True)\n",
              "  (fc2): Linear(in_features=500, out_features=10, bias=True)\n",
              ")"
            ]
          },
          "metadata": {},
          "execution_count": 137
        }
      ],
      "source": [
        "# Freeze all the parameters in the network\n",
        "for param in model.parameters():\n",
        "  param.requires_grad = False\n",
        "\n",
        "# Unfreeze all the parameters from the last layer and randomize the weights\n",
        "for param in model.fc2.parameters():\n",
        "  param.requires_grad = True\n",
        "  param.data = torch.rand(param.size())\n",
        "\n",
        "model.to(device)"
      ]
    },
    {
      "cell_type": "code",
      "execution_count": 139,
      "metadata": {
        "id": "9mS1aM7B_JXx",
        "outputId": "466e1da7-2a52-4b85-9506-c7ab4cf88e52",
        "colab": {
          "base_uri": "https://localhost:8080/",
          "height": 140
        }
      },
      "outputs": [
        {
          "output_type": "error",
          "ename": "SyntaxError",
          "evalue": "ignored",
          "traceback": [
            "\u001b[0;36m  File \u001b[0;32m\"<ipython-input-139-05abd8fc2014>\"\u001b[0;36m, line \u001b[0;32m37\u001b[0m\n\u001b[0;31m    def generate_population(dimensions, vmin, vmax)\u001b[0m\n\u001b[0m                                                   ^\u001b[0m\n\u001b[0;31mSyntaxError\u001b[0m\u001b[0;31m:\u001b[0m expected ':'\n"
          ]
        }
      ],
      "source": [
        "import operator\n",
        "import random\n",
        "import numpy\n",
        "import math\n",
        "from deap import base\n",
        "from deap import benchmarks\n",
        "from deap import creator\n",
        "from deap import tools\n",
        "\n",
        "# all the parameters from the last layer will be the decision variables\n",
        "# the fitness will be the loss function, i.e. cross entropy\n",
        "\n",
        "DIMENSIONS = len(model.fc2.parameters())\n",
        "GENERATIONS = 100\n",
        "\n",
        "POPULATIONS_SIZE = 50\n",
        "C1 = 2.0\n",
        "C2 = 2.0\n",
        "\n",
        "max_weight = 0.9\n",
        "min_weight = 0.4\n",
        "init_min_position = -1 # minimum decision variable value\n",
        "init_max_position = 1 # maximum decision variable value\n",
        "init_min_velocity = 0.5 # minimum velocity a particle can have at initilisation\n",
        "init_max_velocity = 1.5 # maximum velocity a particle can have at initilisation\n",
        "\n",
        "creator.create(\"FitnessMin\", base.Fitness, weights=(-1.0,)) # -1 is for minimise\n",
        "creator.create(\"Particle\",\n",
        "               list, # current solution (i.e. NN parameters)\n",
        "               fitness=creator.FitnessMin, # current fitness\n",
        "               velocity=list, # current velocity (different velocity per decision variable / NN parameter)\n",
        "               min_velocity=None, # velocity clamping values\n",
        "               max_velocity=None, # velocity clamping values\n",
        "               personal_best=None\n",
        "               )\n",
        "\n",
        "def generate_particle(dimensions, min_velocity, max_velocity):\n",
        "  # set the intial solution (NN parameters)\n",
        "  particle = creator.Particle(random.uniform(init_min_position, init_max_position) for _ in range(dimensions))\n",
        "\n",
        "  # set the initial velocity\n",
        "  particle.velocity = [random.uniform(init_min_velocity, init_max_velocity)]\n",
        "\n",
        "  # velocity clamping\n",
        "  particle.min_velocity = min_velocity\n",
        "  particle.max_velocity = max_velocity\n",
        "\n",
        "def objective_function():\n",
        "  return nn.\n",
        "# create a population of random particles\n",
        "population = []\n",
        "for _ in range(POPULATIONS_SIZE):\n",
        "  population.append(generate_particle(dimensions=DIMENSIONS))\n",
        "\n",
        "for g in range(GENERATIONS):\n",
        "  # decaying inertia weight\n",
        "  weight = max_weight - (max_weight - min_weight) * g / GENERATIONS\n",
        "\n",
        "  for particle in population:\n",
        "    # evaluate fitness value\n",
        "    particle.fitness.values =\n",
        "\n",
        "    # check if the fitness value is better than personal best\n",
        "\n",
        "# set the best of the personal best as the global best\n",
        "\n",
        "## update the particles velocity -> v(t+1) =\n",
        "# w*v(t)\n",
        "# + c1*r1(t) (pbest - x(t))\n",
        "# + c2*r2(t) (gbest - x(t))\n",
        "\n",
        "# w -> inertia decaying weight\n",
        "# c1 and c2 -> constants\n",
        "# r1(t) and r2(t) -> uniformly distributed random number between [0,1]\n",
        "#                    each time instant, for each particle, and for each\n",
        "#                    dimension\n",
        "# pbest -> personal best solution of the current particle (n-dimensional vector)\n",
        "# gbest -> global best solution (n-dimensional vector)\n",
        "# n -> number of decision variables (parameters)\n",
        "\n",
        "## update the particles positions (parameters)\n"
      ]
    }
  ],
  "metadata": {
    "accelerator": "GPU",
    "colab": {
      "gpuType": "T4",
      "provenance": []
    },
    "kernelspec": {
      "display_name": "saturn (Python 3)",
      "language": "python",
      "name": "python3"
    },
    "language_info": {
      "codemirror_mode": {
        "name": "ipython",
        "version": 3
      },
      "file_extension": ".py",
      "mimetype": "text/x-python",
      "name": "python",
      "nbconvert_exporter": "python",
      "pygments_lexer": "ipython3",
      "version": "3.10.12"
    },
    "vscode": {
      "interpreter": {
        "hash": "31f2aee4e71d21fbe5cf8b01ff0e069b9275f58929596ceb00d14d90e3e16cd6"
      }
    }
  },
  "nbformat": 4,
  "nbformat_minor": 0
}