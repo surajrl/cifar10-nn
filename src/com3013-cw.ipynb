{
 "cells": [
  {
   "cell_type": "markdown",
   "metadata": {
    "id": "bYh_GVraWdJG"
   },
   "source": [
    "Use GPU if available"
   ]
  },
  {
   "cell_type": "code",
   "execution_count": 1,
   "metadata": {
    "colab": {
     "base_uri": "https://localhost:8080/"
    },
    "executionInfo": {
     "elapsed": 199,
     "status": "ok",
     "timestamp": 1700521550868,
     "user": {
      "displayName": "Suraj Rohira",
      "userId": "02140811171383262876"
     },
     "user_tz": 0
    },
    "id": "21hnF7ao0MEv",
    "outputId": "22ffa619-0cf3-476a-bd9b-8410abf30a68",
    "tags": []
   },
   "outputs": [
    {
     "name": "stdout",
     "output_type": "stream",
     "text": [
      "Using cuda device\n"
     ]
    }
   ],
   "source": [
    "import torch\n",
    "\n",
    "device = (\n",
    "    \"cuda\"\n",
    "    if torch.cuda.is_available()\n",
    "    else \"mps\"\n",
    "    if torch.backends.mps.is_available()\n",
    "    else \"cpu\"\n",
    "    )\n",
    "\n",
    "print(f\"Using {device} device\")"
   ]
  },
  {
   "cell_type": "markdown",
   "metadata": {
    "id": "ctVFVh_7-0b6"
   },
   "source": [
    "Load CIFAR10 dataset"
   ]
  },
  {
   "cell_type": "code",
   "execution_count": 8,
   "metadata": {
    "colab": {
     "base_uri": "https://localhost:8080/"
    },
    "executionInfo": {
     "elapsed": 1803,
     "status": "ok",
     "timestamp": 1700521553015,
     "user": {
      "displayName": "Suraj Rohira",
      "userId": "02140811171383262876"
     },
     "user_tz": 0
    },
    "id": "Ku2V2SEU-wwy",
    "outputId": "54a71956-caca-40d7-bfcf-706520511e79",
    "tags": []
   },
   "outputs": [
    {
     "name": "stdout",
     "output_type": "stream",
     "text": [
      "Downloading https://www.cs.toronto.edu/~kriz/cifar-10-python.tar.gz to ./data/cifar-10-python.tar.gz\n"
     ]
    },
    {
     "name": "stderr",
     "output_type": "stream",
     "text": [
      "100%|██████████| 170498071/170498071 [00:12<00:00, 13985948.88it/s]\n"
     ]
    },
    {
     "name": "stdout",
     "output_type": "stream",
     "text": [
      "Extracting ./data/cifar-10-python.tar.gz to ./data\n",
      "Files already downloaded and verified\n"
     ]
    }
   ],
   "source": [
    "import torch\n",
    "import torchvision\n",
    "import torchvision.transforms as transforms\n",
    "\n",
    "batch_size = 100\n",
    "\n",
    "transform = transforms.Compose(\n",
    "    [transforms.ToTensor()]\n",
    "    )\n",
    "\n",
    "trainset = torchvision.datasets.CIFAR10(\n",
    "    root=\"./data\",\n",
    "    train=True,\n",
    "    download=True,\n",
    "    transform=transform\n",
    "    )\n",
    "\n",
    "trainloader = torch.utils.data.DataLoader(\n",
    "    trainset,\n",
    "    batch_size=batch_size,\n",
    "    shuffle=True, # reshuffle data at every epoch\n",
    "    num_workers=2\n",
    "    )\n",
    "\n",
    "testset = torchvision.datasets.CIFAR10(\n",
    "    root=\"./data\",\n",
    "    train=False,\n",
    "    download=True,\n",
    "    transform=transform\n",
    "    )\n",
    "\n",
    "testloader = torch.utils.data.DataLoader(\n",
    "    testset,\n",
    "    batch_size=batch_size,\n",
    "    shuffle=False,\n",
    "    num_workers=2\n",
    "    )\n",
    "\n",
    "classes = (\"plane\", \"car\", \"bird\", \"cat\", \"deer\",\n",
    "           \"dog\", \"frog\", \"horse\", \"ship\", \"truck\")"
   ]
  },
  {
   "cell_type": "markdown",
   "metadata": {
    "id": "UAwN5w5v1aGK"
   },
   "source": [
    "Define the neural network"
   ]
  },
  {
   "cell_type": "code",
   "execution_count": 3,
   "metadata": {
    "executionInfo": {
     "elapsed": 4,
     "status": "ok",
     "timestamp": 1700521553015,
     "user": {
      "displayName": "Suraj Rohira",
      "userId": "02140811171383262876"
     },
     "user_tz": 0
    },
    "id": "GRLmbYxLzdgZ",
    "tags": []
   },
   "outputs": [],
   "source": [
    "import torch\n",
    "import torch.nn as nn\n",
    "import torch.nn.functional as F\n",
    "\n",
    "class Net(nn.Module):\n",
    "    def __init__(self):\n",
    "        super().__init__()\n",
    "        self.conv1 = nn.Conv2d(3, 64, 5, stride=1, padding=2)\n",
    "        self.batchNorm1 = nn.BatchNorm2d(64)\n",
    "        \n",
    "        self.conv2 = nn.Conv2d(64, 64, 5, stride=1, padding=2)\n",
    "        self.batchNorm2 = nn.BatchNorm2d(64)\n",
    "        \n",
    "        self.conv3 = nn.Conv2d(64, 64, 5, stride=1, padding=2)\n",
    "        self.batchNorm3 = nn.BatchNorm2d(64)\n",
    "        \n",
    "        self.fc1 = nn.Linear(4 * 4 * 64, 500)\n",
    "        self.batchNorm4 = nn.BatchNorm1d(500)\n",
    "        \n",
    "        self.fc2 = nn.Linear(500, 10)\n",
    "\n",
    "    def forward(self, x):\n",
    "        x = self.conv1(x)\n",
    "        x = self.batchNorm1(x) # batch normalization\n",
    "        x = F.relu(x)\n",
    "        x = F.max_pool2d(x, kernel_size=2, stride=2)\n",
    "        \n",
    "        x = self.conv2(x)\n",
    "        x = self.batchNorm2(x) # batch normalization\n",
    "        x = F.relu(x)\n",
    "        x = F.max_pool2d(x, kernel_size=2, stride=2)\n",
    "\n",
    "        x = self.conv3(x)\n",
    "        x = self.batchNorm3(x) # batch normalization\n",
    "        x = F.relu(x)\n",
    "        x = F.max_pool2d(x, kernel_size=2, stride=2)\n",
    "        \n",
    "        x = torch.flatten(x, 1) # flatten all dimensions except batch\n",
    "        \n",
    "        x = self.fc1(x)\n",
    "        x = self.batchNorm4(x) # batch normalization\n",
    "        x = F.relu(x)\n",
    "        \n",
    "        x = F.dropout(x, p=0.5)\n",
    "        x = self.fc2(x)\n",
    "\n",
    "        return x\n"
   ]
  },
  {
   "cell_type": "markdown",
   "metadata": {
    "id": "9kdKH-zE-ftr"
   },
   "source": [
    "Define optimizer"
   ]
  },
  {
   "cell_type": "code",
   "execution_count": 4,
   "metadata": {
    "executionInfo": {
     "elapsed": 203,
     "status": "ok",
     "timestamp": 1700521628780,
     "user": {
      "displayName": "Suraj Rohira",
      "userId": "02140811171383262876"
     },
     "user_tz": 0
    },
    "id": "FQOzookN9pQB",
    "tags": []
   },
   "outputs": [],
   "source": [
    "import torch.optim as optim\n",
    "import torch.nn as nn\n",
    "\n",
    "torch.manual_seed(1)\n",
    "model = Net()\n",
    "model.to(device)\n",
    "\n",
    "optimizer = optim.SGD(model.parameters(), lr=0.1, momentum=0.0) # mini batch gradient descent"
   ]
  },
  {
   "cell_type": "markdown",
   "metadata": {
    "id": "t1nbp-N4qtIg"
   },
   "source": [
    "Train the neural network"
   ]
  },
  {
   "cell_type": "code",
   "execution_count": 5,
   "metadata": {
    "colab": {
     "base_uri": "https://localhost:8080/",
     "height": 465
    },
    "executionInfo": {
     "elapsed": 275925,
     "status": "ok",
     "timestamp": 1700521909810,
     "user": {
      "displayName": "Suraj Rohira",
      "userId": "02140811171383262876"
     },
     "user_tz": 0
    },
    "id": "KC8q-C6-qrlU",
    "outputId": "a1017c8b-6cbf-4c5c-a033-90fc792cbd3f",
    "tags": []
   },
   "outputs": [
    {
     "name": "stdout",
     "output_type": "stream",
     "text": [
      "epoch: 0, total loss: 669.3903886675835\n",
      "epoch: 1, total loss: 479.6290104985237\n",
      "epoch: 2, total loss: 398.86033111810684\n",
      "epoch: 3, total loss: 349.7273857295513\n",
      "epoch: 4, total loss: 308.5810495913029\n",
      "epoch: 5, total loss: 273.32395058870316\n",
      "epoch: 6, total loss: 242.14337772130966\n",
      "epoch: 7, total loss: 217.7577315568924\n",
      "epoch: 8, total loss: 188.0654122531414\n",
      "epoch: 9, total loss: 167.13615195453167\n",
      "epoch: 10, total loss: 148.0927651822567\n",
      "epoch: 11, total loss: 129.5841914191842\n",
      "epoch: 12, total loss: 115.48787507414818\n",
      "epoch: 13, total loss: 98.35575430840254\n",
      "epoch: 14, total loss: 89.00053911656141\n",
      "epoch: 15, total loss: 76.68456774950027\n",
      "epoch: 16, total loss: 70.90828702971339\n",
      "epoch: 17, total loss: 63.191174279898405\n",
      "epoch: 18, total loss: 55.61861220933497\n",
      "epoch: 19, total loss: 49.65797164104879\n",
      "epoch: 20, total loss: 43.863216642290354\n",
      "epoch: 21, total loss: 39.777682814747095\n",
      "epoch: 22, total loss: 35.97696002572775\n",
      "epoch: 23, total loss: 33.19807059597224\n",
      "epoch: 24, total loss: 30.33425154304132\n",
      "epoch: 25, total loss: 28.051175598520786\n",
      "epoch: 26, total loss: 24.628557455260307\n",
      "epoch: 27, total loss: 24.94116446794942\n",
      "epoch: 28, total loss: 26.191414523869753\n",
      "epoch: 29, total loss: 23.612543575000018\n",
      "epoch: 30, total loss: 19.55696121463552\n",
      "epoch: 31, total loss: 18.558641895418987\n",
      "epoch: 32, total loss: 18.23970882827416\n",
      "epoch: 33, total loss: 17.815848894882947\n",
      "epoch: 34, total loss: 17.073708921438083\n",
      "epoch: 35, total loss: 16.853718211408705\n",
      "epoch: 36, total loss: 15.232489342102781\n",
      "epoch: 37, total loss: 15.056802628561854\n",
      "epoch: 38, total loss: 15.048843855969608\n",
      "epoch: 39, total loss: 12.716750369407237\n",
      "epoch: 40, total loss: 11.25304128183052\n",
      "epoch: 41, total loss: 12.071253465837799\n",
      "epoch: 42, total loss: 10.610389531007968\n",
      "epoch: 43, total loss: 8.348600599565543\n",
      "epoch: 44, total loss: 9.18340179277584\n",
      "epoch: 45, total loss: 9.801601212122478\n",
      "epoch: 46, total loss: 9.333660626434721\n",
      "epoch: 47, total loss: 8.499133271281607\n",
      "epoch: 48, total loss: 8.93433323863428\n",
      "epoch: 49, total loss: 8.68558450997807\n",
      "epoch: 50, total loss: 8.780481481691822\n",
      "epoch: 51, total loss: 9.233143377816305\n",
      "epoch: 52, total loss: 6.763980345975142\n",
      "epoch: 53, total loss: 6.596015825343784\n",
      "epoch: 54, total loss: 7.727608646207955\n",
      "epoch: 55, total loss: 6.407834494166309\n",
      "epoch: 56, total loss: 6.781468173750909\n",
      "epoch: 57, total loss: 6.790856370062102\n",
      "epoch: 58, total loss: 5.4463458647660445\n",
      "epoch: 59, total loss: 5.563957436446799\n",
      "epoch: 60, total loss: 6.371256626880495\n",
      "epoch: 61, total loss: 5.668529271846637\n",
      "epoch: 62, total loss: 5.280115164554445\n",
      "epoch: 63, total loss: 5.893720429536188\n",
      "epoch: 64, total loss: 4.827009330503643\n",
      "epoch: 65, total loss: 5.937885586783523\n",
      "epoch: 66, total loss: 6.091058277699631\n",
      "epoch: 67, total loss: 5.759062884782907\n",
      "epoch: 68, total loss: 6.049223228532355\n",
      "epoch: 69, total loss: 5.235531821788754\n",
      "epoch: 70, total loss: 4.789767511887476\n",
      "epoch: 71, total loss: 4.087261017528363\n",
      "epoch: 72, total loss: 4.813414007279789\n",
      "epoch: 73, total loss: 5.205593064019922\n",
      "epoch: 74, total loss: 5.037666018135496\n",
      "epoch: 75, total loss: 3.8809673355717678\n",
      "epoch: 76, total loss: 3.621759903180646\n",
      "epoch: 77, total loss: 3.71224953426281\n",
      "epoch: 78, total loss: 4.207465637446148\n",
      "epoch: 79, total loss: 4.442341878282605\n",
      "epoch: 80, total loss: 3.934818600129802\n",
      "epoch: 81, total loss: 4.125446180012659\n",
      "epoch: 82, total loss: 4.448944528106949\n",
      "epoch: 83, total loss: 3.260691669798689\n",
      "epoch: 84, total loss: 3.7360948464192916\n",
      "epoch: 85, total loss: 3.4026500657346332\n",
      "epoch: 86, total loss: 3.78981742754695\n",
      "epoch: 87, total loss: 3.0584908972959965\n",
      "epoch: 88, total loss: 2.6304334680899046\n",
      "epoch: 89, total loss: 3.3145259965313016\n",
      "epoch: 90, total loss: 2.68602527895564\n",
      "epoch: 91, total loss: 3.1634596488511306\n",
      "epoch: 92, total loss: 3.8541276245523477\n",
      "epoch: 93, total loss: 3.8990295211115154\n",
      "epoch: 94, total loss: 2.8577968957688427\n",
      "epoch: 95, total loss: 3.214632879899\n",
      "epoch: 96, total loss: 3.084449077374302\n",
      "epoch: 97, total loss: 3.918903530051466\n",
      "epoch: 98, total loss: 4.070334337215172\n",
      "epoch: 99, total loss: 3.150238959118724\n",
      "epoch: 100, total loss: 3.660008986822504\n",
      "epoch: 101, total loss: 2.8601642499270383\n",
      "epoch: 102, total loss: 2.4791186738439137\n",
      "epoch: 103, total loss: 3.132580822057207\n",
      "epoch: 104, total loss: 2.427822396362899\n",
      "epoch: 105, total loss: 1.879526221578999\n",
      "epoch: 106, total loss: 2.4723040229073376\n",
      "epoch: 107, total loss: 2.4164368185665808\n",
      "epoch: 108, total loss: 2.262029601879476\n",
      "epoch: 109, total loss: 1.854948104781215\n",
      "epoch: 110, total loss: 2.3600376911417698\n",
      "epoch: 111, total loss: 2.612204543882399\n",
      "epoch: 112, total loss: 2.4470270213241747\n",
      "epoch: 113, total loss: 2.121669023501454\n",
      "epoch: 114, total loss: 1.8588187222194392\n",
      "epoch: 115, total loss: 1.8451235039829044\n",
      "epoch: 116, total loss: 2.062020709985518\n",
      "epoch: 117, total loss: 2.058624964891351\n",
      "epoch: 118, total loss: 1.9584364236943657\n",
      "epoch: 119, total loss: 1.4428784143237863\n",
      "epoch: 120, total loss: 2.248988015453506\n",
      "epoch: 121, total loss: 2.986088243120321\n",
      "epoch: 122, total loss: 2.544814574510383\n",
      "epoch: 123, total loss: 2.006996472191531\n",
      "epoch: 124, total loss: 1.8468515736858535\n",
      "epoch: 125, total loss: 1.6289726262475597\n",
      "epoch: 126, total loss: 1.6781568516016705\n",
      "epoch: 127, total loss: 2.1210876636723697\n",
      "epoch: 128, total loss: 1.937539257836761\n",
      "epoch: 129, total loss: 2.3633830388789647\n",
      "epoch: 130, total loss: 2.3310075270273956\n",
      "epoch: 131, total loss: 2.169376085024851\n",
      "epoch: 132, total loss: 2.0954883536469424\n",
      "epoch: 133, total loss: 1.8216264307993697\n",
      "epoch: 134, total loss: 1.7956315427763911\n",
      "epoch: 135, total loss: 1.2845527424324246\n",
      "epoch: 136, total loss: 1.4846346169215394\n",
      "epoch: 137, total loss: 2.15076158168813\n",
      "epoch: 138, total loss: 1.8849667869326368\n",
      "epoch: 139, total loss: 1.280467349337414\n",
      "epoch: 140, total loss: 1.40376903602737\n",
      "epoch: 141, total loss: 1.6300881277711596\n",
      "epoch: 142, total loss: 2.050698276500043\n",
      "epoch: 143, total loss: 1.7870900540146977\n",
      "epoch: 144, total loss: 1.9315547497171792\n",
      "epoch: 145, total loss: 1.6776822587344213\n",
      "epoch: 146, total loss: 2.0801004777968046\n",
      "epoch: 147, total loss: 1.6488372774583695\n",
      "epoch: 148, total loss: 2.160641844788188\n",
      "epoch: 149, total loss: 1.7093622399279411\n",
      "epoch: 150, total loss: 1.8197493701954954\n",
      "epoch: 151, total loss: 2.1336374196689576\n",
      "epoch: 152, total loss: 1.8602819385487237\n",
      "epoch: 153, total loss: 1.7292903863817628\n",
      "epoch: 154, total loss: 1.921766804807703\n",
      "epoch: 155, total loss: 1.9141194395597267\n",
      "epoch: 156, total loss: 1.5785184036540159\n",
      "epoch: 157, total loss: 1.5585304127380368\n",
      "epoch: 158, total loss: 1.49519080673781\n",
      "epoch: 159, total loss: 1.7503337831712997\n",
      "epoch: 160, total loss: 1.6099465813040297\n",
      "epoch: 161, total loss: 1.5563751280697034\n",
      "epoch: 162, total loss: 1.6008888431988453\n",
      "epoch: 163, total loss: 1.5747259037852928\n",
      "epoch: 164, total loss: 1.200151879209443\n",
      "epoch: 165, total loss: 1.7043913867855736\n",
      "epoch: 166, total loss: 1.8698022496428166\n",
      "epoch: 167, total loss: 1.6469490185954783\n",
      "epoch: 168, total loss: 2.0525228324004274\n",
      "epoch: 169, total loss: 2.1044339632389892\n",
      "epoch: 170, total loss: 2.149416701806331\n",
      "epoch: 171, total loss: 1.6205712185110315\n",
      "epoch: 172, total loss: 1.2100469183715177\n",
      "epoch: 173, total loss: 1.2169382263255102\n",
      "epoch: 174, total loss: 1.3232159193903499\n",
      "epoch: 175, total loss: 1.5170380190957076\n",
      "epoch: 176, total loss: 1.3951476453021314\n",
      "epoch: 177, total loss: 1.6157790350316645\n",
      "epoch: 178, total loss: 1.468244728503123\n",
      "epoch: 179, total loss: 1.3559065014724183\n",
      "epoch: 180, total loss: 1.2974150334630394\n",
      "epoch: 181, total loss: 1.4819756098713697\n",
      "epoch: 182, total loss: 1.3747123350312904\n",
      "epoch: 183, total loss: 1.989310030508932\n",
      "epoch: 184, total loss: 1.6337024300901248\n",
      "epoch: 185, total loss: 1.2202703769871732\n",
      "epoch: 186, total loss: 1.2297697100548248\n",
      "epoch: 187, total loss: 1.2387722223447781\n",
      "epoch: 188, total loss: 1.2756735356133504\n",
      "epoch: 189, total loss: 1.2912759087739687\n",
      "epoch: 190, total loss: 1.3919917344064743\n",
      "epoch: 191, total loss: 1.0021033912653365\n",
      "epoch: 192, total loss: 1.1725393335109402\n",
      "epoch: 193, total loss: 1.0381098023781306\n",
      "epoch: 194, total loss: 1.132723990103841\n",
      "epoch: 195, total loss: 0.8292243264450008\n",
      "epoch: 196, total loss: 0.9507368253689492\n",
      "epoch: 197, total loss: 1.125570639340367\n",
      "epoch: 198, total loss: 1.181612412748109\n",
      "epoch: 199, total loss: 1.3141893598003662\n",
      "epoch: 200, total loss: 1.1646432337693113\n",
      "epoch: 201, total loss: 1.745607032749831\n",
      "epoch: 202, total loss: 1.1596256178236217\n",
      "epoch: 203, total loss: 1.2741693781063077\n",
      "epoch: 204, total loss: 1.4425761243419402\n",
      "epoch: 205, total loss: 1.52779619442299\n",
      "epoch: 206, total loss: 1.7534717393009487\n",
      "epoch: 207, total loss: 1.2104662418887528\n",
      "epoch: 208, total loss: 1.0943911278009182\n",
      "epoch: 209, total loss: 1.1733286711678375\n",
      "epoch: 210, total loss: 1.0029642937424796\n",
      "epoch: 211, total loss: 1.050878992815342\n",
      "epoch: 212, total loss: 0.9522917652284377\n",
      "epoch: 213, total loss: 1.2190772326721344\n",
      "epoch: 214, total loss: 0.9156061317207786\n",
      "epoch: 215, total loss: 1.2974082909749995\n",
      "epoch: 216, total loss: 0.9155703467949934\n",
      "epoch: 217, total loss: 1.0326734185600799\n",
      "epoch: 218, total loss: 1.0512543728655146\n",
      "epoch: 219, total loss: 1.1280798348634562\n",
      "epoch: 220, total loss: 1.0621794916114595\n",
      "epoch: 221, total loss: 1.131956311808608\n",
      "epoch: 222, total loss: 1.2595119523011817\n",
      "epoch: 223, total loss: 1.215483924241198\n",
      "epoch: 224, total loss: 1.2546501394563165\n",
      "epoch: 225, total loss: 1.0559264282055665\n",
      "epoch: 226, total loss: 1.080345835618573\n",
      "epoch: 227, total loss: 0.9424382686784156\n",
      "epoch: 228, total loss: 0.9309753430661658\n",
      "epoch: 229, total loss: 0.7246292434892894\n",
      "epoch: 230, total loss: 1.0056547883514213\n",
      "epoch: 231, total loss: 1.373959836206268\n",
      "epoch: 232, total loss: 1.1503526331107423\n",
      "epoch: 233, total loss: 0.6910747635756707\n",
      "epoch: 234, total loss: 0.9451118345523355\n",
      "epoch: 235, total loss: 1.078730865581747\n",
      "epoch: 236, total loss: 1.1330601538702467\n",
      "epoch: 237, total loss: 1.0006012883777657\n",
      "epoch: 238, total loss: 0.9645508182784397\n",
      "epoch: 239, total loss: 0.8803906016300971\n",
      "epoch: 240, total loss: 0.7825471542755622\n",
      "epoch: 241, total loss: 1.3088130299838667\n",
      "epoch: 242, total loss: 1.260341330029405\n",
      "epoch: 243, total loss: 0.8197933283493057\n",
      "epoch: 244, total loss: 0.7747710770736376\n",
      "epoch: 245, total loss: 1.5845411078671532\n",
      "epoch: 246, total loss: 1.0458262494439623\n",
      "epoch: 247, total loss: 1.105807761723554\n",
      "epoch: 248, total loss: 1.1759848874248746\n",
      "epoch: 249, total loss: 1.2243366710818009\n",
      "epoch: 250, total loss: 1.5458041029005472\n",
      "epoch: 251, total loss: 1.4824118921260379\n",
      "epoch: 252, total loss: 0.8933758310058693\n",
      "epoch: 253, total loss: 0.69036740282354\n",
      "epoch: 254, total loss: 1.092675872543623\n",
      "epoch: 255, total loss: 0.7517289534662268\n",
      "epoch: 256, total loss: 1.0188546637996296\n",
      "epoch: 257, total loss: 0.8847089869514093\n",
      "epoch: 258, total loss: 0.9074344727387142\n",
      "epoch: 259, total loss: 0.9162095594756465\n",
      "epoch: 260, total loss: 1.0475860300821296\n",
      "epoch: 261, total loss: 0.6175303588529459\n",
      "epoch: 262, total loss: 0.8294140432553831\n",
      "epoch: 263, total loss: 0.8229747862969816\n",
      "epoch: 264, total loss: 1.3238257062039338\n",
      "epoch: 265, total loss: 0.7445327168625226\n",
      "epoch: 266, total loss: 0.7019839581225824\n",
      "epoch: 267, total loss: 0.9035761932764217\n",
      "epoch: 268, total loss: 0.8582054765211069\n",
      "epoch: 269, total loss: 0.8209660241282108\n",
      "epoch: 270, total loss: 0.9419339230144033\n",
      "epoch: 271, total loss: 0.919034548079253\n",
      "epoch: 272, total loss: 0.914118673388657\n",
      "epoch: 273, total loss: 0.7068083479061897\n",
      "epoch: 274, total loss: 0.6613841485532248\n",
      "epoch: 275, total loss: 1.1295397379208225\n",
      "epoch: 276, total loss: 0.5193199897184968\n",
      "epoch: 277, total loss: 0.7271538902959946\n",
      "epoch: 278, total loss: 0.889510814078676\n",
      "epoch: 279, total loss: 0.7280335659570483\n",
      "epoch: 280, total loss: 0.5717872193040421\n",
      "epoch: 281, total loss: 0.5498264269235733\n",
      "epoch: 282, total loss: 0.4524657792362632\n",
      "epoch: 283, total loss: 0.4552430380554142\n",
      "epoch: 284, total loss: 0.7136525306514159\n",
      "epoch: 285, total loss: 0.7739839378887154\n",
      "epoch: 286, total loss: 0.787042084460154\n",
      "epoch: 287, total loss: 0.810821626750112\n",
      "epoch: 288, total loss: 0.8330002338875602\n",
      "epoch: 289, total loss: 0.8715299771647551\n",
      "epoch: 290, total loss: 0.7420734495610759\n",
      "epoch: 291, total loss: 0.8945376294823291\n",
      "epoch: 292, total loss: 0.8201263277614999\n",
      "epoch: 293, total loss: 1.0854912066288307\n",
      "epoch: 294, total loss: 0.5911082399325096\n",
      "epoch: 295, total loss: 0.8115616584091185\n",
      "epoch: 296, total loss: 0.9501729980984237\n",
      "epoch: 297, total loss: 0.561460165099561\n",
      "epoch: 298, total loss: 0.9997240699958638\n",
      "epoch: 299, total loss: 0.8666881571562044\n",
      "Finished Training\n"
     ]
    },
    {
     "data": {
      "image/png": "[encoded data removed]",
      "text/plain": [
       "<Figure size 640x480 with 1 Axes>"
      ]
     },
     "metadata": {},
     "output_type": "display_data"
    },
    {
     "data": {
      "image/png": "[encoded data removed]",
      "text/plain": [
       "<Figure size 640x480 with 1 Axes>"
      ]
     },
     "metadata": {},
     "output_type": "display_data"
    }
   ],
   "source": [
    "import matplotlib.pyplot as plt\n",
    "import numpy as np\n",
    "import time\n",
    "\n",
    "total_loss_list = []\n",
    "loss_list = []\n",
    "\n",
    "start = time.perf_counter()\n",
    "\n",
    "for epoch in range(300):  # loop over the dataset multiple times\n",
    "\n",
    "  total_loss = 0\n",
    "\n",
    "  # on each mini-batch, the model uses the same weigths for that current\n",
    "  # mini-batch, hence, the number of times the model weights will be updated\n",
    "  # is given by total_trainset / mini_batch_size\n",
    "\n",
    "  # loop over the dataset and get mini-batch\n",
    "  for mini_batch_num, data in enumerate(trainloader, 0):\n",
    "    images = data[0].to(device)\n",
    "    labels = data[1].to(device)\n",
    "\n",
    "    optimizer.zero_grad() # zero the parameter gradients\n",
    "\n",
    "    preds = model(images) # forward mini-batch\n",
    "    loss = F.cross_entropy(preds, labels) # calculate loss of all the mini-batch\n",
    "    \n",
    "    loss_list.append(loss.item()) # track the loss\n",
    "    \n",
    "    loss.backward() # calculate gradients with respect to each weight\n",
    "    optimizer.step() # update weights\n",
    "    \n",
    "    total_loss += loss.item()\n",
    "\n",
    "  print(f\"epoch: {epoch}, total loss: {total_loss}\")\n",
    "  total_loss_list.append(total_loss)\n",
    "\n",
    "end = time.perf_counter()\n",
    "\n",
    "print(f\"Finished training, time taken {start-end} seconds\")\n",
    "\n",
    "# plot the loss rate\n",
    "plt.plot(np.array(loss_list), 'r')\n",
    "plt.ylabel(\"Loss\")\n",
    "plt.xlabel(\"Evaluations\")\n",
    "plt.show()\n",
    "plt.plot(np.array(total_loss_list), 'b')\n",
    "plt.ylabel(\"Total Loss\")\n",
    "plt.xlabel(\"Epoch\")\n",
    "plt.show()"
   ]
  },
  {
   "cell_type": "markdown",
   "metadata": {
    "id": "v7pEHP_9q2_V"
   },
   "source": [
    "Test the neural network"
   ]
  },
  {
   "cell_type": "code",
   "execution_count": 6,
   "metadata": {
    "colab": {
     "base_uri": "https://localhost:8080/"
    },
    "executionInfo": {
     "elapsed": 26941,
     "status": "ok",
     "timestamp": 1700528803098,
     "user": {
      "displayName": "Suraj Rohira",
      "userId": "02140811171383262876"
     },
     "user_tz": 0
    },
    "id": "iWvJ5LDhq2Xw",
    "outputId": "d0d45e6b-5c2a-4229-841c-97af21ce67cf",
    "tags": []
   },
   "outputs": [
    {
     "name": "stdout",
     "output_type": "stream",
     "text": [
      "Accuracy of the network on the 10000 test images: 77 %\n"
     ]
    }
   ],
   "source": [
    "correct = 0\n",
    "total = 0\n",
    "\n",
    "# since we're not training, we don't need to calculate the gradients for our outputs\n",
    "with torch.no_grad():\n",
    "    for data in testloader:\n",
    "        images, labels = data[0].to(device), data[1].to(device)\n",
    "\n",
    "        # calculate outputs by running images through the network\n",
    "        outputs = model(images)\n",
    "        # the class with the highest energy is what we choose as prediction\n",
    "        _, predicted = torch.max(outputs.data, 1)\n",
    "        total += labels.size(0)\n",
    "        correct += (predicted == labels).sum().item()\n",
    "\n",
    "print(f\"Accuracy of the network on the 10000 test images: {100 * correct // total} %\")"
   ]
  },
  {
   "cell_type": "markdown",
   "metadata": {
    "id": "I9F89EzdDiwb"
   },
   "source": [
    "Save the model"
   ]
  },
  {
   "cell_type": "code",
   "execution_count": 7,
   "metadata": {
    "executionInfo": {
     "elapsed": 5,
     "status": "aborted",
     "timestamp": 1700521620917,
     "user": {
      "displayName": "Suraj Rohira",
      "userId": "02140811171383262876"
     },
     "user_tz": 0
    },
    "id": "XtrRdpppJ6T8"
   },
   "outputs": [],
   "source": [
    "PATH = \"../nn-models/cifar_model_300epoch_77acc.pth\"\n",
    "torch.save(model.state_dict(), PATH)"
   ]
  },
  {
   "cell_type": "markdown",
   "metadata": {
    "id": "2jK7WKoiD0sn"
   },
   "source": [
    "Load the model"
   ]
  },
  {
   "cell_type": "code",
   "execution_count": null,
   "metadata": {
    "executionInfo": {
     "elapsed": 5,
     "status": "aborted",
     "timestamp": 1700521620917,
     "user": {
      "displayName": "Suraj Rohira",
      "userId": "02140811171383262876"
     },
     "user_tz": 0
    },
    "id": "mWBJUF_LD0F2"
   },
   "outputs": [],
   "source": [
    "net = Net()\n",
    "net.load_state_dict(torch.load(PATH))"
   ]
  },
  {
   "cell_type": "markdown",
   "metadata": {
    "id": "0bqa8r_gD5i-"
   },
   "source": [
    "Freeze all the weights except for the last layer"
   ]
  },
  {
   "cell_type": "code",
   "execution_count": null,
   "metadata": {
    "executionInfo": {
     "elapsed": 5,
     "status": "aborted",
     "timestamp": 1700521620917,
     "user": {
      "displayName": "Suraj Rohira",
      "userId": "02140811171383262876"
     },
     "user_tz": 0
    },
    "id": "an3n2lu8D-bM"
   },
   "outputs": [],
   "source": [
    "# Freeze all the parameters in the network\n",
    "for param in model.parameters():\n",
    "  param.requires_grad = False\n",
    "\n",
    "# Unfreeze all the parameters from the last layer\n",
    "for param in model.fc2.parameters():\n",
    "  param.requires_grad = True"
   ]
  },
  {
   "cell_type": "code",
   "execution_count": null,
   "metadata": {},
   "outputs": [],
   "source": [
    "import operator\n",
    "import random\n",
    "import numpy\n",
    "import math\n",
    "from deap import base\n",
    "from deap import benchmarks\n",
    "from deap import creator\n",
    "from deap import tools\n",
    "\n",
    "# all the parameters from the last layer will be the decision variables\n",
    "# the fitness will be the loss function, i.e. cross entropy\n",
    "# a particle will contain:\n",
    "## current solution (parameters)\n",
    "## current fitness value\n",
    "## best solution (personal best)\n",
    "## best solution of the entire population (global best)\n",
    "\n",
    "dimension = len(model.fc2.parameters())\n",
    "generations = 100\n",
    "\n",
    "population_size = 50\n",
    "c1 = 2.0\n",
    "c2 = 2.0\n",
    "\n",
    "creator.create(\"FitnessMin\", base.Fitness, weights=(-1.0,)) # -1 is for minimise\n",
    "creator.create(\"Particle\",\n",
    "               list,\n",
    "               fitness=creator.FitnessMin,\n",
    "               velocity=list,\n",
    "               vmin=None,\n",
    "               vmax=None,\n",
    "               personal_best=None)\n",
    "\n",
    "# create a random population of particles\n",
    "\n",
    "# loop over g generations\n",
    "\n",
    "## loop over every particle\n",
    "### evaluate fitness value\n",
    "### check if the fitness value is better than personal best\n",
    "\n",
    "## set the best of the personal best as the global best\n",
    "\n",
    "## update the particles velocity -> v(t+1) =\n",
    "# w*v(t)\n",
    "# + c1*r1(t) (pbest - x(t))\n",
    "# + c2*r2(t) (gbest - x(t))\n",
    "\n",
    "# w -> inertia decaying weight\n",
    "# c1 and c2 -> constants\n",
    "# r1(t) and r2(t) -> uniformly distributed random number between [0,1]\n",
    "#                    each time instant, for each particle, and for each\n",
    "#                    dimension\n",
    "# pbest -> personal best solution of the current particle (n-dimensional vector)\n",
    "# gbest -> global best solution (n-dimensional vector)\n",
    "# n -> number of decision variables (parameters)\n",
    "\n",
    "## update the particles positions (parameters)\n"
   ]
  }
 ],
 "metadata": {
  "accelerator": "GPU",
  "colab": {
   "gpuType": "T4",
   "provenance": []
  },
  "kernelspec": {
   "display_name": "saturn (Python 3)",
   "language": "python",
   "name": "python3"
  },
  "language_info": {
   "codemirror_mode": {
    "name": "ipython",
    "version": 3
   },
   "file_extension": ".py",
   "mimetype": "text/x-python",
   "name": "python",
   "nbconvert_exporter": "python",
   "pygments_lexer": "ipython3",
   "version": "3.10.12"
  },
  "vscode": {
   "interpreter": {
    "hash": "31f2aee4e71d21fbe5cf8b01ff0e069b9275f58929596ceb00d14d90e3e16cd6"
   }
  }
 },
 "nbformat": 4,
 "nbformat_minor": 4
}
