{
  "cells": [
    {
      "cell_type": "markdown",
      "metadata": {
        "id": "bYh_GVraWdJG"
      },
      "source": [
        "Use GPU if available"
      ]
    },
    {
      "cell_type": "code",
      "execution_count": 1,
      "metadata": {
        "colab": {
          "base_uri": "https://localhost:8080/"
        },
        "id": "21hnF7ao0MEv",
        "outputId": "844ac87f-75f8-4ed4-e4c7-cdc3f866e044",
        "tags": []
      },
      "outputs": [
        {
          "name": "stdout",
          "output_type": "stream",
          "text": [
            "Using cuda device\n"
          ]
        }
      ],
      "source": [
        "import torch\n",
        "\n",
        "device = (\n",
        "    \"cuda\"\n",
        "    if torch.cuda.is_available()\n",
        "    else \"mps\"\n",
        "    if torch.backends.mps.is_available()\n",
        "    else \"cpu\"\n",
        "    )\n",
        "\n",
        "print(f\"Using {device} device\")"
      ]
    },
    {
      "cell_type": "markdown",
      "metadata": {
        "id": "ctVFVh_7-0b6"
      },
      "source": [
        "Load CIFAR10 dataset"
      ]
    },
    {
      "cell_type": "code",
      "execution_count": 2,
      "metadata": {
        "colab": {
          "base_uri": "https://localhost:8080/"
        },
        "id": "Ku2V2SEU-wwy",
        "outputId": "2ac348ed-858b-47fc-846d-ef4b2001030c",
        "tags": []
      },
      "outputs": [
        {
          "name": "stdout",
          "output_type": "stream",
          "text": [
            "Files already downloaded and verified\n",
            "Files already downloaded and verified\n"
          ]
        }
      ],
      "source": [
        "import torchvision\n",
        "import torchvision.transforms as transforms\n",
        "\n",
        "batch_size = 32\n",
        "\n",
        "transform = transforms.Compose(\n",
        "    [transforms.ToTensor()]\n",
        "    )\n",
        "\n",
        "trainset = torchvision.datasets.CIFAR10(\n",
        "    root=\"./data\",\n",
        "    train=True,\n",
        "    download=True,\n",
        "    transform=transform\n",
        "    )\n",
        "\n",
        "trainloader = torch.utils.data.DataLoader(\n",
        "    trainset,\n",
        "    batch_size=batch_size,\n",
        "    shuffle=True, # reshuffle data at every epoch\n",
        "    num_workers=2\n",
        "    )\n",
        "\n",
        "testset = torchvision.datasets.CIFAR10(\n",
        "    root=\"./data\",\n",
        "    train=False,\n",
        "    download=True,\n",
        "    transform=transform\n",
        "    )\n",
        "\n",
        "testloader = torch.utils.data.DataLoader(\n",
        "    testset,\n",
        "    batch_size=batch_size,\n",
        "    shuffle=False,\n",
        "    num_workers=2\n",
        "    )\n",
        "\n",
        "classes = (\"plane\", \"car\", \"bird\", \"cat\", \"deer\",\n",
        "           \"dog\", \"frog\", \"horse\", \"ship\", \"truck\")"
      ]
    },
    {
      "cell_type": "markdown",
      "metadata": {
        "id": "UAwN5w5v1aGK"
      },
      "source": [
        "Define the neural network"
      ]
    },
    {
      "cell_type": "code",
      "execution_count": 8,
      "metadata": {
        "id": "GRLmbYxLzdgZ",
        "tags": []
      },
      "outputs": [],
      "source": [
        "import torch.nn as nn\n",
        "import torch.nn.functional as F\n",
        "\n",
        "class Net(nn.Module):\n",
        "    def __init__(self):\n",
        "        super().__init__()\n",
        "        self.conv1 = nn.Conv2d(3, 64, 5, stride=1, padding=2)\n",
        "        self.batchNorm1 = nn.BatchNorm2d(64)\n",
        "\n",
        "        self.conv2 = nn.Conv2d(64, 128, 5, stride=1, padding=2)\n",
        "        self.batchNorm2 = nn.BatchNorm2d(128)\n",
        "\n",
        "        self.conv3 = nn.Conv2d(128, 128, 5, stride=1, padding=2)\n",
        "        self.batchNorm3 = nn.BatchNorm2d(128)\n",
        "\n",
        "        self.fc1 = nn.Linear(4 * 4 * 128, 2048)\n",
        "        self.batchNorm4 = nn.BatchNorm1d(2048)\n",
        "\n",
        "        self.fc2 = nn.Linear(2048, 2048)\n",
        "        self.batchNorm5 = nn.BatchNorm1d(2048)\n",
        "\n",
        "        self.out = nn.Linear(2048, 10)\n",
        "\n",
        "    def forward(self, x):\n",
        "        x = self.conv1(x)\n",
        "        x = self.batchNorm1(x) # batch normalization\n",
        "        x = F.relu(x)\n",
        "        x = F.max_pool2d(x, kernel_size=2, stride=2)\n",
        "\n",
        "        x = self.conv2(x)\n",
        "        x = self.batchNorm2(x) # batch normalization\n",
        "        x = F.relu(x)\n",
        "        x = F.max_pool2d(x, kernel_size=2, stride=2)\n",
        "\n",
        "        x = self.conv3(x)\n",
        "        x = self.batchNorm3(x) # batch normalization\n",
        "        x = F.relu(x)\n",
        "        x = F.max_pool2d(x, kernel_size=2, stride=2)\n",
        "\n",
        "        x = torch.flatten(x, 1) # flatten all dimensions except batch\n",
        "\n",
        "        x = self.fc1(x)\n",
        "        x = self.batchNorm4(x) # batch normalization\n",
        "        x = F.relu(x)\n",
        "\n",
        "        x = self.fc2(x)\n",
        "        x = self.batchNorm5(x) # batch normalization\n",
        "        x = F.relu(x)\n",
        "\n",
        "        x = F.dropout(x, p=0.5)\n",
        "\n",
        "        x = self.out(x)\n",
        "\n",
        "        return x"
      ]
    },
    {
      "cell_type": "markdown",
      "metadata": {
        "id": "tmVLEC-DuEPX"
      },
      "source": [
        "Function to test the NN"
      ]
    },
    {
      "cell_type": "code",
      "execution_count": 5,
      "metadata": {
        "id": "9WXa-hVGuEPX"
      },
      "outputs": [],
      "source": [
        "def test_nn(net: nn.Module, verbose: bool):\n",
        "    # test the neural network\n",
        "    correct = 0\n",
        "    total = 0\n",
        "    # since we're not training, we don't need to calculate the gradients for our outputs\n",
        "    with torch.no_grad():\n",
        "        for data in testloader:\n",
        "            images = data[0].to(device)\n",
        "            labels = data[1].to(device)\n",
        "\n",
        "            # calculate outputs by running images through the network\n",
        "            outputs = net(images)\n",
        "            # the class with the highest energy is what we choose as prediction\n",
        "            _, predicted = torch.max(outputs.data, 1)\n",
        "            total += labels.size(0)\n",
        "            correct += (predicted == labels).sum().item()\n",
        "\n",
        "    accuracy = 100 * correct // total\n",
        "\n",
        "    if verbose:\n",
        "        print('Testing on 10,000 test images ...')\n",
        "        print(f'- Correct: {correct}')\n",
        "        print(f'- Total: {total}')\n",
        "        print(f'- Accuracy: {accuracy}')\n",
        "\n",
        "    return accuracy"
      ]
    },
    {
      "cell_type": "code",
      "execution_count": 11,
      "metadata": {
        "id": "uxi0VWvAuEPY"
      },
      "outputs": [],
      "source": [
        "import matplotlib.pyplot as plt\n",
        "import numpy as np\n",
        "\n",
        "def train_nn(net: nn.Module, epochs: int, optimizer: torch.optim.Optimizer):\n",
        "  print(f'Initialising training ...')\n",
        "  print(f'- Epochs: {epochs}')\n",
        "  print(f'- Batch size: {batch_size}')\n",
        "  print(f'- Optimiser: {optimizer}')\n",
        "  print(f'- Loss function: {F.cross_entropy}')\n",
        "\n",
        "  running_loss_track = []\n",
        "  accuracy_track = []\n",
        "\n",
        "  # loop over the dataset multiple times\n",
        "  for epoch in range(epochs):\n",
        "    running_loss = 0\n",
        "\n",
        "    # loop over the dataset in mini-batches\n",
        "    for mini_batch_num, data in enumerate(trainloader, 0):\n",
        "      images = data[0].to(device)\n",
        "      labels = data[1].to(device)\n",
        "\n",
        "      optimizer.zero_grad() # zero the parameter gradients\n",
        "\n",
        "      preds = net(images) # forward mini-batch\n",
        "\n",
        "      loss = F.cross_entropy(preds, labels) # calculate loss\n",
        "      loss.backward() # calculate gradients with respect to each weight\n",
        "      optimizer.step() # update weights\n",
        "\n",
        "      running_loss += loss.item()\n",
        "\n",
        "    accuracy = test_nn(net=net, verbose=False)\n",
        "    print(f'\\nEpoch {epoch} finished -- Running loss {running_loss} -- Accuracy {accuracy}')\n",
        "\n",
        "    # track\n",
        "    running_loss_track.append(running_loss)\n",
        "    accuracy_track.append(accuracy)\n",
        "\n",
        "  # plot\n",
        "  fig, ax1 = plt.subplots()\n",
        "\n",
        "  ax1.set_xlabel('Iterations over entire dataset')\n",
        "  ax1.set_ylabel('Accuracy', color='b')\n",
        "  ax1.plot(np.array(accuracy_track), '--b', label='Accuracy', linewidth=0.5)\n",
        "\n",
        "  ax2 = ax1.twinx()\n",
        "  ax2.set_ylabel('Running Loss', color='r')\n",
        "  ax2.plot(np.array(running_loss_track), '--r', label='Loss', linewidth=0.5)\n",
        "\n",
        "  fig.tight_layout()\n",
        "  fig.legend()\n",
        "  plt.show()"
      ]
    },
    {
      "cell_type": "markdown",
      "metadata": {
        "id": "t1nbp-N4qtIg"
      },
      "source": [
        "Create new NN model"
      ]
    },
    {
      "cell_type": "code",
      "execution_count": 12,
      "metadata": {
        "colab": {
          "base_uri": "https://localhost:8080/",
          "height": 1000
        },
        "id": "KC8q-C6-qrlU",
        "outputId": "19cd94ee-4952-405e-edf2-51c662cb8cac",
        "tags": []
      },
      "outputs": [
        {
          "name": "stdout",
          "output_type": "stream",
          "text": [
            "Initialising training ...\n",
            "- Epochs: 50\n",
            "- Batch size: 32\n",
            "- Optimiser: SGD (\n",
            "Parameter Group 0\n",
            "    dampening: 0\n",
            "    differentiable: False\n",
            "    foreach: None\n",
            "    lr: 0.01\n",
            "    maximize: False\n",
            "    momentum: 0.0\n",
            "    nesterov: False\n",
            "    weight_decay: 0\n",
            ")\n",
            "- Loss function: <function cross_entropy at 0x7cc6817d9750>\n",
            "\n",
            "Epoch 0 finished -- Running loss 2042.3855981826782 -- Accuracy 61\n",
            "\n",
            "Epoch 1 finished -- Running loss 1438.1147616505623 -- Accuracy 68\n",
            "\n",
            "Epoch 2 finished -- Running loss 1168.1614255160093 -- Accuracy 70\n",
            "\n",
            "Epoch 3 finished -- Running loss 951.5554018616676 -- Accuracy 70\n",
            "\n",
            "Epoch 4 finished -- Running loss 775.9174745306373 -- Accuracy 72\n",
            "\n",
            "Epoch 5 finished -- Running loss 622.5348513349891 -- Accuracy 74\n",
            "\n",
            "Epoch 6 finished -- Running loss 495.77322151884437 -- Accuracy 74\n",
            "\n",
            "Epoch 7 finished -- Running loss 393.22665701806545 -- Accuracy 74\n",
            "\n",
            "Epoch 8 finished -- Running loss 297.56827137991786 -- Accuracy 75\n",
            "\n",
            "Epoch 9 finished -- Running loss 239.3587222211063 -- Accuracy 74\n",
            "\n",
            "Epoch 10 finished -- Running loss 196.55719813657925 -- Accuracy 75\n",
            "\n",
            "Epoch 11 finished -- Running loss 166.6293967368547 -- Accuracy 76\n",
            "\n",
            "Epoch 12 finished -- Running loss 132.85865073965397 -- Accuracy 76\n",
            "\n",
            "Epoch 13 finished -- Running loss 107.19632600690238 -- Accuracy 76\n",
            "\n",
            "Epoch 14 finished -- Running loss 93.6340601752745 -- Accuracy 76\n",
            "\n",
            "Epoch 15 finished -- Running loss 86.53306320554111 -- Accuracy 75\n",
            "\n",
            "Epoch 16 finished -- Running loss 79.32258262042888 -- Accuracy 75\n",
            "\n",
            "Epoch 17 finished -- Running loss 69.18164187611546 -- Accuracy 76\n",
            "\n",
            "Epoch 18 finished -- Running loss 59.53585079702316 -- Accuracy 77\n",
            "\n",
            "Epoch 19 finished -- Running loss 50.601707049878314 -- Accuracy 76\n",
            "\n",
            "Epoch 20 finished -- Running loss 48.49341829811601 -- Accuracy 76\n",
            "\n",
            "Epoch 21 finished -- Running loss 45.17918516788632 -- Accuracy 76\n",
            "\n",
            "Epoch 22 finished -- Running loss 38.722364784771344 -- Accuracy 77\n",
            "\n",
            "Epoch 23 finished -- Running loss 32.99913725985971 -- Accuracy 75\n",
            "\n",
            "Epoch 24 finished -- Running loss 30.8959351687663 -- Accuracy 76\n",
            "\n",
            "Epoch 25 finished -- Running loss 29.468151682813186 -- Accuracy 77\n",
            "\n",
            "Epoch 26 finished -- Running loss 25.27164491498843 -- Accuracy 77\n",
            "\n",
            "Epoch 27 finished -- Running loss 24.992275339718617 -- Accuracy 77\n",
            "\n",
            "Epoch 28 finished -- Running loss 22.3915751106033 -- Accuracy 76\n",
            "\n",
            "Epoch 29 finished -- Running loss 24.37649646824866 -- Accuracy 77\n",
            "\n",
            "Epoch 30 finished -- Running loss 22.945254574871797 -- Accuracy 77\n",
            "\n",
            "Epoch 31 finished -- Running loss 17.942297152003448 -- Accuracy 76\n",
            "\n",
            "Epoch 32 finished -- Running loss 17.784929714078316 -- Accuracy 77\n",
            "\n",
            "Epoch 33 finished -- Running loss 15.708447460638126 -- Accuracy 77\n",
            "\n",
            "Epoch 34 finished -- Running loss 19.433328427330707 -- Accuracy 77\n",
            "\n",
            "Epoch 35 finished -- Running loss 18.421589667033913 -- Accuracy 77\n",
            "\n",
            "Epoch 36 finished -- Running loss 19.40204913618436 -- Accuracy 76\n",
            "\n",
            "Epoch 37 finished -- Running loss 14.133746905386943 -- Accuracy 76\n",
            "\n",
            "Epoch 38 finished -- Running loss 14.706170860337807 -- Accuracy 77\n",
            "\n",
            "Epoch 39 finished -- Running loss 15.941175063566334 -- Accuracy 76\n",
            "\n",
            "Epoch 40 finished -- Running loss 16.56119272947035 -- Accuracy 77\n",
            "\n",
            "Epoch 41 finished -- Running loss 13.979131788626546 -- Accuracy 77\n",
            "\n",
            "Epoch 42 finished -- Running loss 14.784937838707265 -- Accuracy 77\n",
            "\n",
            "Epoch 43 finished -- Running loss 16.353536655140488 -- Accuracy 77\n",
            "\n",
            "Epoch 44 finished -- Running loss 14.518546261420852 -- Accuracy 77\n",
            "\n",
            "Epoch 45 finished -- Running loss 10.635578783462734 -- Accuracy 77\n",
            "\n",
            "Epoch 46 finished -- Running loss 8.333452996431333 -- Accuracy 77\n",
            "\n",
            "Epoch 47 finished -- Running loss 10.08435838895275 -- Accuracy 77\n",
            "\n",
            "Epoch 48 finished -- Running loss 7.517280679197029 -- Accuracy 78\n",
            "\n",
            "Epoch 49 finished -- Running loss 11.26723918357402 -- Accuracy 77\n"
          ]
        },
        {
          "data": {
            "image/png": "[encoded data removed]",
            "text/plain": [
              "<Figure size 640x480 with 2 Axes>"
            ]
          },
          "metadata": {},
          "output_type": "display_data"
        },
        {
          "name": "stdout",
          "output_type": "stream",
          "text": [
            "Testing on 10,000 test images ...\n",
            "- Correct: 7739\n",
            "- Total: 10000\n",
            "- Accuracy: 77\n"
          ]
        },
        {
          "data": {
            "text/plain": [
              "77"
            ]
          },
          "execution_count": 12,
          "metadata": {},
          "output_type": "execute_result"
        }
      ],
      "source": [
        "# import matplotlib.pyplot as plt\n",
        "# import numpy as np\n",
        "# import time\n",
        "\n",
        "# # create a new NN\n",
        "# torch.manual_seed(1)\n",
        "# net = Net()\n",
        "# net.to(device)\n",
        "\n",
        "# optimizer = torch.optim.SGD(net.parameters(), lr=0.01, momentum=0.0)\n",
        "\n",
        "# train_nn(net=net, epochs=50, optimizer=optimizer)\n",
        "# test_nn(net=net, verbose=True)"
      ]
    },
    {
      "cell_type": "markdown",
      "metadata": {
        "id": "UbW7JJYtuEPb"
      },
      "source": [
        "Save the new NN model"
      ]
    },
    {
      "cell_type": "code",
      "execution_count": 13,
      "metadata": {
        "id": "u9SQ0ZpEuEPc"
      },
      "outputs": [],
      "source": [
        "# PATH = \"./nn-models/cifar10-nn-model\"\n",
        "# torch.save(net.state_dict(), PATH)"
      ]
    },
    {
      "cell_type": "markdown",
      "metadata": {
        "id": "rZg0f1favdZG"
      },
      "source": [
        "Load the NN model"
      ]
    },
    {
      "cell_type": "code",
      "execution_count": 14,
      "metadata": {
        "colab": {
          "base_uri": "https://localhost:8080/"
        },
        "id": "WW2P48vcvZYy",
        "outputId": "400f3e1b-fe15-4aab-a0f6-bab4fb06c48a"
      },
      "outputs": [
        {
          "name": "stdout",
          "output_type": "stream",
          "text": [
            "Testing on 10,000 test images ...\n",
            "- Correct: 7730\n",
            "- Total: 10000\n",
            "- Accuracy: 77\n"
          ]
        },
        {
          "data": {
            "text/plain": [
              "77"
            ]
          },
          "execution_count": 14,
          "metadata": {},
          "output_type": "execute_result"
        }
      ],
      "source": [
        "# PATH = \"./nn-models/cifar10-nn-model\"\n",
        "\n",
        "# # load the pretrained NN model\n",
        "# net = Net()\n",
        "# net.load_state_dict(torch.load(PATH))\n",
        "# net.to(device=device)\n",
        "\n",
        "# test_nn(net=net, verbose=True)"
      ]
    },
    {
      "cell_type": "markdown",
      "metadata": {
        "id": "sWZBtU4nuEPc"
      },
      "source": [
        "Freeze all the parameters except those from the last layer"
      ]
    },
    {
      "cell_type": "code",
      "execution_count": 15,
      "metadata": {
        "id": "5NSlSkpSuEPd"
      },
      "outputs": [],
      "source": [
        "def freeze_parameters(net: nn.Module):\n",
        "    # freeze all the parameters in the NN\n",
        "    for param in net.parameters():\n",
        "        param.requires_grad = False\n",
        "\n",
        "    # unfreeze all the parameters from the last layer and randomise the weights\n",
        "    for param in net.out.parameters():\n",
        "        param.requires_grad = True\n",
        "        param.data = torch.rand(param.size(), device=device)"
      ]
    },
    {
      "cell_type": "markdown",
      "metadata": {
        "id": "8dccyb6ZRn7z"
      },
      "source": [
        "Gradient descent method"
      ]
    },
    {
      "cell_type": "code",
      "execution_count": null,
      "metadata": {
        "id": "tCCYz3w3RsgT"
      },
      "outputs": [],
      "source": [
        "# PATH = \"./nn-models/cifar10-nn-model\"\n",
        "\n",
        "# # load the pretrained NN model\n",
        "# net = Net()\n",
        "# net.load_state_dict(torch.load(PATH))\n",
        "# net.to(device=device)\n",
        "\n",
        "# freeze_parameters(net=net)\n",
        "\n",
        "# optimizer = torch.optim.Adagrad(net.parameters())\n",
        "# loss_function = torch.nn.CrossEntropyLoss()\n",
        "\n",
        "# train_nn(net=net, epochs=50, optimizer=optimizer, loss_function=loss_function)\n",
        "# test_nn(net=net, verbose=True)"
      ]
    },
    {
      "cell_type": "markdown",
      "metadata": {
        "id": "FYRApf_iuEPf"
      },
      "source": [
        "Population-based heuristic algorithm"
      ]
    },
    {
      "cell_type": "code",
      "execution_count": 25,
      "metadata": {
        "colab": {
          "base_uri": "https://localhost:8080/",
          "height": 1000
        },
        "id": "eRJ-tZkcuEPg",
        "outputId": "16ecd396-5f71-4796-a08e-c4d0841f0902"
      },
      "outputs": [
        {
          "name": "stdout",
          "output_type": "stream",
          "text": [
            "Population of 50 individuals generated\n",
            "Generation 0 -- Current best individual has a fitness value of 28.535776138305664\n",
            "Generation 1 -- Current best individual has a fitness value of 26.350688934326172\n",
            "Generation 2 -- Current best individual has a fitness value of 24.581024169921875\n",
            "Generation 3 -- Current best individual has a fitness value of 24.499893188476562\n",
            "Generation 4 -- Current best individual has a fitness value of 19.538970947265625\n",
            "Generation 5 -- Current best individual has a fitness value of 19.538970947265625\n",
            "Generation 6 -- Current best individual has a fitness value of 19.538970947265625\n",
            "Generation 7 -- Current best individual has a fitness value of 19.538970947265625\n",
            "Generation 8 -- Current best individual has a fitness value of 16.253454208374023\n",
            "Generation 9 -- Current best individual has a fitness value of 16.253454208374023\n",
            "Generation 10 -- Current best individual has a fitness value of 16.253454208374023\n",
            "Generation 11 -- Current best individual has a fitness value of 16.206254959106445\n",
            "Generation 12 -- Current best individual has a fitness value of 16.206254959106445\n",
            "Generation 13 -- Current best individual has a fitness value of 14.506850242614746\n",
            "Generation 14 -- Current best individual has a fitness value of 14.506850242614746\n",
            "Generation 15 -- Current best individual has a fitness value of 14.506850242614746\n",
            "Generation 16 -- Current best individual has a fitness value of 14.36082935333252\n",
            "Generation 17 -- Current best individual has a fitness value of 12.851211547851562\n",
            "Generation 18 -- Current best individual has a fitness value of 12.516290664672852\n",
            "Generation 19 -- Current best individual has a fitness value of 12.516290664672852\n",
            "Generation 20 -- Current best individual has a fitness value of 12.516290664672852\n",
            "Generation 21 -- Current best individual has a fitness value of 12.479999542236328\n",
            "Generation 22 -- Current best individual has a fitness value of 12.479999542236328\n",
            "Generation 23 -- Current best individual has a fitness value of 10.8212251663208\n",
            "Generation 24 -- Current best individual has a fitness value of 10.8212251663208\n",
            "Generation 25 -- Current best individual has a fitness value of 10.710295677185059\n",
            "Generation 26 -- Current best individual has a fitness value of 10.710295677185059\n",
            "Generation 27 -- Current best individual has a fitness value of 10.710295677185059\n",
            "Generation 28 -- Current best individual has a fitness value of 10.710295677185059\n",
            "Generation 29 -- Current best individual has a fitness value of 10.386758804321289\n",
            "Generation 30 -- Current best individual has a fitness value of 10.386758804321289\n",
            "Generation 31 -- Current best individual has a fitness value of 10.386758804321289\n",
            "Generation 32 -- Current best individual has a fitness value of 10.302872657775879\n",
            "Generation 33 -- Current best individual has a fitness value of 10.038612365722656\n",
            "Generation 34 -- Current best individual has a fitness value of 8.67657470703125\n",
            "Generation 35 -- Current best individual has a fitness value of 8.67657470703125\n",
            "Generation 36 -- Current best individual has a fitness value of 8.67657470703125\n",
            "Generation 37 -- Current best individual has a fitness value of 8.67657470703125\n",
            "Generation 38 -- Current best individual has a fitness value of 8.67657470703125\n",
            "Generation 39 -- Current best individual has a fitness value of 8.67657470703125\n",
            "Generation 40 -- Current best individual has a fitness value of 8.513826370239258\n",
            "Generation 41 -- Current best individual has a fitness value of 8.513826370239258\n",
            "Generation 42 -- Current best individual has a fitness value of 8.513826370239258\n",
            "Generation 43 -- Current best individual has a fitness value of 8.513826370239258\n",
            "Generation 44 -- Current best individual has a fitness value of 8.513826370239258\n",
            "Generation 45 -- Current best individual has a fitness value of 8.513826370239258\n",
            "Generation 46 -- Current best individual has a fitness value of 8.513826370239258\n",
            "Generation 47 -- Current best individual has a fitness value of 8.513826370239258\n",
            "Generation 48 -- Current best individual has a fitness value of 8.513826370239258\n",
            "Generation 49 -- Current best individual has a fitness value of 8.513826370239258\n",
            "End of evolution -- Best individual has a fitness value of (8.513826370239258,)\n",
            "Testing on 10,000 test images ...\n",
            "- Correct: 1965\n",
            "- Total: 10000\n",
            "- Accuracy: 19\n"
          ]
        },
        {
          "data": {
            "text/plain": [
              "19"
            ]
          },
          "execution_count": 25,
          "metadata": {},
          "output_type": "execute_result"
        },
        {
          "data": {
            "image/png": "[encoded data removed]",
            "text/plain": [
              "<Figure size 640x480 with 1 Axes>"
            ]
          },
          "metadata": {},
          "output_type": "display_data"
        }
      ],
      "source": [
        "import random\n",
        "from deap import creator, base, tools, algorithms\n",
        "\n",
        "PATH = \"./nn-models/cifar10-nn-model\"\n",
        "\n",
        "# load the pretrained NN model\n",
        "net = Net()\n",
        "net.load_state_dict(torch.load(PATH))\n",
        "net.to(device=device)\n",
        "\n",
        "all_data = []\n",
        "for batch in trainloader:\n",
        "    all_data.extend(batch)\n",
        "\n",
        "freeze_parameters(net=net)\n",
        "\n",
        "# genetic algorithm\n",
        "n_bits = 8\n",
        "\n",
        "dimensions = 0\n",
        "for param in net.out.parameters():\n",
        "    dimensions += param.numel()\n",
        "\n",
        "population_size = 50\n",
        "generations = 50\n",
        "elitism = 5\n",
        "crossover_probability = 0.9\n",
        "uniform_crossover_probability = 0.5\n",
        "mutation_probability = 0.1\n",
        "mutation_flip_probability = 1.0 / (dimensions * n_bits)\n",
        "min_bound = -1.0\n",
        "max_bound = 1.0\n",
        "\n",
        "creator.create(\"FitnessMin\", base.Fitness, weights=(-1.0,))\n",
        "creator.create(\"Individual\", list, fitness=creator.FitnessMin)\n",
        "\n",
        "toolbox = base.Toolbox()\n",
        "# register the uniform crossover\n",
        "toolbox.register(\"crossover\", tools.cxUniform, indpb=uniform_crossover_probability)\n",
        "# register the bit mutation\n",
        "toolbox.register(\"mutation\", tools.mutFlipBit, indpb=mutation_flip_probability)\n",
        "# register the selection\n",
        "toolbox.register(\"select\", tools.selTournament, fit_attr='fitness')\n",
        "\n",
        "def decode(individual):\n",
        "    real_numbers = []\n",
        "    for i in range(dimensions):\n",
        "        chromosome = individual[i*n_bits:(i+1)*n_bits]\n",
        "        bit_string = ''.join(map(str, chromosome))\n",
        "        num_as_int = int(bit_string, 2) # convert to int from base 2 list\n",
        "        num_in_range = min_bound + (max_bound - min_bound) * num_as_int / 2**n_bits\n",
        "        real_numbers.append(num_in_range)\n",
        "\n",
        "    return real_numbers\n",
        "\n",
        "def calculate_fitness(individual):\n",
        "    # put the parameters into the NN\n",
        "    parameters = decode(individual=individual)\n",
        "    parameters = torch.as_tensor(parameters, dtype=torch.float32, device=device)\n",
        "\n",
        "    net.out.weight = torch.nn.Parameter(data=parameters[0:20480].reshape(10, 2048))\n",
        "    net.out.bias = torch.nn.Parameter(data=parameters[20480:20490])\n",
        "\n",
        "    # go over the dataset once\n",
        "    running_loss = 0\n",
        "    with torch.no_grad():\n",
        "      images = all_data[0].to(device) # evaluate on the train or test data ??\n",
        "      labels = all_data[1].to(device)\n",
        "\n",
        "      preds = net(images) # predict entire dataset\n",
        "      loss = F.cross_entropy(preds, labels) # calculate loss\n",
        "\n",
        "    return loss.item(),\n",
        "\n",
        "# generate an initial population\n",
        "population = []\n",
        "for _ in range(population_size):\n",
        "    # generate random genes\n",
        "    new_genes = []\n",
        "    for _ in range(n_bits * dimensions):\n",
        "        new_genes.append(random.randint(0, 1))\n",
        "\n",
        "    # generate an individual from those random genes\n",
        "    new_individual = creator.Individual(new_genes)\n",
        "    # calculate their fitness\n",
        "    new_individual.fitness.values = calculate_fitness(new_individual)\n",
        "\n",
        "    population.append(new_individual)\n",
        "\n",
        "print(f'Population of {len(population)} individuals generated')\n",
        "\n",
        "best_individuals = []\n",
        "\n",
        "# start generations loop\n",
        "for g in range(generations):\n",
        "    # select the next generation of individuals\n",
        "    offspring = tools.selBest(population, elitism) + toolbox.select(population, len(population) - elitism, 2)\n",
        "    offspring = list(map(toolbox.clone, offspring))\n",
        "\n",
        "    # crossover\n",
        "    for child1, child2 in zip(offspring[elitism::2], offspring[elitism+1::2]):\n",
        "        # with a certain probability generate an offspring by uniform crossover\n",
        "        if random.random() < crossover_probability:\n",
        "            toolbox.crossover(child1, child2)\n",
        "            # invalidate the fitness value of the offspring\n",
        "            del child1.fitness.values\n",
        "            del child2.fitness.values\n",
        "\n",
        "    # mutation\n",
        "    for mutant in offspring[elitism:]:\n",
        "        # with a certain probability generate an offspring by bit mutation\n",
        "        if random.random() < mutation_probability:\n",
        "            toolbox.mutation(mutant)\n",
        "            # invalidate the fitness value of the offspring\n",
        "            del mutant.fitness.values\n",
        "\n",
        "    # calculate the fitness of the offspring\n",
        "    for individual in offspring:\n",
        "        if not individual.fitness.valid:\n",
        "            individual.fitness.values = calculate_fitness(individual)\n",
        "\n",
        "    # replacement\n",
        "    population[:] = offspring\n",
        "\n",
        "    # track the best individuals\n",
        "    # gather all the fitness values in one list and track the best fitness value\n",
        "    all_fitness_values = [individual.fitness.values[0] for individual in population]\n",
        "    best_individuals.append(min(all_fitness_values))\n",
        "    print(f'Generation {g} -- Current best individual has a fitness value of {min(all_fitness_values)}')\n",
        "\n",
        "# plot the best individuals from each generation\n",
        "plt.plot(np.array(best_individuals), 'r')\n",
        "plt.xlabel('Generations')\n",
        "plt.ylabel('Fitness value of best individual')\n",
        "# choose the best individual from the final population as the parameters (weights and biases) of the NN\n",
        "best_individual = tools.selBest(population, 1)[0]\n",
        "print(f'End of evolution -- Best individual has a fitness value of {best_individual.fitness.values}')\n",
        "\n",
        "# put parameters back into the NN\n",
        "parameters = decode(individual=best_individual)\n",
        "parameters = torch.as_tensor(parameters, dtype=torch.float32, device=device)\n",
        "net.out.weight = torch.nn.Parameter(data=parameters[0:20480].reshape(10, 2048))\n",
        "net.out.bias = torch.nn.Parameter(data=parameters[20480:20490])\n",
        "\n",
        "# test the NN\n",
        "test_nn(net=net, verbose=True)"
      ]
    }
  ],
  "metadata": {
    "accelerator": "GPU",
    "colab": {
      "gpuType": "T4",
      "provenance": []
    },
    "kernelspec": {
      "display_name": "Python 3",
      "name": "python3"
    },
    "language_info": {
      "codemirror_mode": {
        "name": "ipython",
        "version": 3
      },
      "file_extension": ".py",
      "mimetype": "text/x-python",
      "name": "python",
      "nbconvert_exporter": "python",
      "pygments_lexer": "ipython3",
      "version": "3.10.12"
    },
    "vscode": {
      "interpreter": {
        "hash": "31f2aee4e71d21fbe5cf8b01ff0e069b9275f58929596ceb00d14d90e3e16cd6"
      }
    }
  },
  "nbformat": 4,
  "nbformat_minor": 0
}
