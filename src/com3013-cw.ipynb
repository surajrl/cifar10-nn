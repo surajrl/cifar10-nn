{
  "cells": [
    {
      "cell_type": "markdown",
      "metadata": {
        "id": "bYh_GVraWdJG"
      },
      "source": [
        "Use GPU if available"
      ]
    },
    {
      "cell_type": "code",
      "execution_count": 71,
      "metadata": {
        "colab": {
          "base_uri": "https://localhost:8080/"
        },
        "id": "21hnF7ao0MEv",
        "outputId": "42e14a33-5ce1-4602-d43a-a13638872c87",
        "tags": []
      },
      "outputs": [
        {
          "name": "stdout",
          "output_type": "stream",
          "text": [
            "Using cuda device\n"
          ]
        }
      ],
      "source": [
        "import torch\n",
        "\n",
        "device = (\n",
        "    \"cuda\"\n",
        "    if torch.cuda.is_available()\n",
        "    else \"mps\"\n",
        "    if torch.backends.mps.is_available()\n",
        "    else \"cpu\"\n",
        "    )\n",
        "\n",
        "print(f\"Using {device} device\")"
      ]
    },
    {
      "cell_type": "markdown",
      "metadata": {
        "id": "ctVFVh_7-0b6"
      },
      "source": [
        "Load CIFAR10 dataset"
      ]
    },
    {
      "cell_type": "code",
      "execution_count": 72,
      "metadata": {
        "colab": {
          "base_uri": "https://localhost:8080/"
        },
        "id": "Ku2V2SEU-wwy",
        "outputId": "1624c48a-406f-47ae-d229-71a179a7aaf9",
        "tags": []
      },
      "outputs": [
        {
          "name": "stdout",
          "output_type": "stream",
          "text": [
            "Files already downloaded and verified\n",
            "Files already downloaded and verified\n"
          ]
        }
      ],
      "source": [
        "import torch\n",
        "import torchvision\n",
        "import torchvision.transforms as transforms\n",
        "\n",
        "batch_size = 32\n",
        "\n",
        "transform = transforms.Compose(\n",
        "    [transforms.ToTensor()]\n",
        "    )\n",
        "\n",
        "trainset = torchvision.datasets.CIFAR10(\n",
        "    root=\"./data\",\n",
        "    train=True,\n",
        "    download=True,\n",
        "    transform=transform\n",
        "    )\n",
        "\n",
        "trainloader = torch.utils.data.DataLoader(\n",
        "    trainset,\n",
        "    batch_size=batch_size,\n",
        "    shuffle=True, # reshuffle data at every epoch\n",
        "    num_workers=2\n",
        "    )\n",
        "\n",
        "testset = torchvision.datasets.CIFAR10(\n",
        "    root=\"./data\",\n",
        "    train=False,\n",
        "    download=True,\n",
        "    transform=transform\n",
        "    )\n",
        "\n",
        "testloader = torch.utils.data.DataLoader(\n",
        "    testset,\n",
        "    batch_size=batch_size,\n",
        "    shuffle=False,\n",
        "    num_workers=2\n",
        "    )\n",
        "\n",
        "classes = (\"plane\", \"car\", \"bird\", \"cat\", \"deer\",\n",
        "           \"dog\", \"frog\", \"horse\", \"ship\", \"truck\")"
      ]
    },
    {
      "cell_type": "code",
      "execution_count": 73,
      "metadata": {},
      "outputs": [
        {
          "data": {
            "text/plain": [
              "tensor(1.)"
            ]
          },
          "execution_count": 73,
          "metadata": {},
          "output_type": "execute_result"
        }
      ],
      "source": [
        "torch.max(trainloader.dataset[0][0][0])"
      ]
    },
    {
      "cell_type": "markdown",
      "metadata": {
        "id": "UAwN5w5v1aGK"
      },
      "source": [
        "Define the neural network"
      ]
    },
    {
      "cell_type": "code",
      "execution_count": 81,
      "metadata": {
        "id": "GRLmbYxLzdgZ",
        "tags": []
      },
      "outputs": [],
      "source": [
        "import torch\n",
        "import torch.nn as nn\n",
        "import torch.nn.functional as F\n",
        "\n",
        "class Net(nn.Module):\n",
        "    def __init__(self):\n",
        "        super().__init__()\n",
        "        self.conv1 = nn.Conv2d(3, 64, 5, stride=1, padding=2)\n",
        "        self.batchNorm1 = nn.BatchNorm2d(64)\n",
        "\n",
        "        self.conv2 = nn.Conv2d(64, 128, 5, stride=1, padding=2)\n",
        "        self.batchNorm2 = nn.BatchNorm2d(128)\n",
        "\n",
        "        self.conv3 = nn.Conv2d(128, 128, 5, stride=1, padding=2)\n",
        "        self.batchNorm3 = nn.BatchNorm2d(128)\n",
        "\n",
        "        self.fc1 = nn.Linear(4 * 4 * 128, 2048)\n",
        "        self.batchNorm4 = nn.BatchNorm1d(2048)\n",
        "\n",
        "        self.fc2 = nn.Linear(2048, 2048)\n",
        "        self.batchNorm5 = nn.BatchNorm1d(2048)\n",
        "\n",
        "        self.fc3 = nn.Linear(2048, 10)\n",
        "\n",
        "    def forward(self, x):\n",
        "        x = self.conv1(x)\n",
        "        x = self.batchNorm1(x) # batch normalization\n",
        "        x = F.relu(x)\n",
        "        x = F.max_pool2d(x, kernel_size=2, stride=2)\n",
        "\n",
        "        x = self.conv2(x)\n",
        "        x = self.batchNorm2(x) # batch normalization\n",
        "        x = F.relu(x)\n",
        "        x = F.max_pool2d(x, kernel_size=2, stride=2)\n",
        "\n",
        "        x = self.conv3(x)\n",
        "        x = self.batchNorm3(x) # batch normalization\n",
        "        x = F.relu(x)\n",
        "        x = F.max_pool2d(x, kernel_size=2, stride=2)\n",
        "        x = F.dropout(x, p=0.5)\n",
        "\n",
        "        x = torch.flatten(x, 1) # flatten all dimensions except batch\n",
        "\n",
        "        x = self.fc1(x)\n",
        "        x = self.batchNorm4(x) # batch normalization\n",
        "        x = F.relu(x)\n",
        "\n",
        "        x = self.fc2(x)\n",
        "        x = self.batchNorm5(x) # batch normalization\n",
        "        x = F.relu(x)\n",
        "\n",
        "        x = F.dropout(x, p=0.5)\n",
        "        \n",
        "        x = self.fc2(x)\n",
        "\n",
        "        return x\n"
      ]
    },
    {
      "cell_type": "markdown",
      "metadata": {
        "id": "9kdKH-zE-ftr"
      },
      "source": [
        "Define optimizer"
      ]
    },
    {
      "cell_type": "code",
      "execution_count": 75,
      "metadata": {
        "id": "FQOzookN9pQB",
        "tags": []
      },
      "outputs": [],
      "source": [
        "import torch.optim as optim\n",
        "import torch.nn as nn\n",
        "\n",
        "torch.manual_seed(1)\n",
        "model = Net()\n",
        "model.to(device)\n",
        "\n",
        "optimizer = optim.SGD(model.parameters(), lr=0.01, momentum=0.0) # mini batch gradient descent"
      ]
    },
    {
      "cell_type": "markdown",
      "metadata": {
        "id": "t1nbp-N4qtIg"
      },
      "source": [
        "Train the neural network"
      ]
    },
    {
      "cell_type": "code",
      "execution_count": 76,
      "metadata": {
        "colab": {
          "base_uri": "https://localhost:8080/",
          "height": 1000
        },
        "id": "KC8q-C6-qrlU",
        "outputId": "3b54953b-3d26-4fda-e975-7d673d4f7de5",
        "tags": []
      },
      "outputs": [
        {
          "name": "stdout",
          "output_type": "stream",
          "text": [
            "Epochs: 50\n",
            "Batch size: 32\n",
            "epoch: 0, total loss: 2644.1588413119316\n",
            "epoch: 1, total loss: 1984.9992761611938\n",
            "epoch: 2, total loss: 1730.2812948822975\n",
            "epoch: 3, total loss: 1579.157366156578\n",
            "epoch: 4, total loss: 1461.6467553079128\n",
            "epoch: 5, total loss: 1382.3070765137672\n",
            "epoch: 6, total loss: 1300.5183684527874\n",
            "epoch: 7, total loss: 1238.5996993482113\n",
            "epoch: 8, total loss: 1178.8215293735266\n",
            "epoch: 9, total loss: 1128.6483383625746\n",
            "epoch: 10, total loss: 1078.2725635170937\n",
            "epoch: 11, total loss: 1038.3501762896776\n",
            "epoch: 12, total loss: 991.8972261548042\n",
            "epoch: 13, total loss: 953.4867612570524\n",
            "epoch: 14, total loss: 926.8157135397196\n",
            "epoch: 15, total loss: 887.7617553472519\n",
            "epoch: 16, total loss: 869.2537883892655\n",
            "epoch: 17, total loss: 836.0778712332249\n",
            "epoch: 18, total loss: 797.1027147695422\n",
            "epoch: 19, total loss: 763.3990643545985\n",
            "epoch: 20, total loss: 749.5487690269947\n",
            "epoch: 21, total loss: 725.8966816663742\n",
            "epoch: 22, total loss: 695.5583127960563\n",
            "epoch: 23, total loss: 679.1747308969498\n",
            "epoch: 24, total loss: 646.5266367271543\n",
            "epoch: 25, total loss: 623.5221519246697\n",
            "epoch: 26, total loss: 607.6196257099509\n",
            "epoch: 27, total loss: 578.1757297292352\n",
            "epoch: 28, total loss: 569.5692649781704\n",
            "epoch: 29, total loss: 548.1952527165413\n",
            "epoch: 30, total loss: 525.3629038594663\n",
            "epoch: 31, total loss: 508.8479502648115\n",
            "epoch: 32, total loss: 497.20828748866916\n",
            "epoch: 33, total loss: 482.9360662959516\n",
            "epoch: 34, total loss: 460.937359880656\n",
            "epoch: 35, total loss: 442.53447376936674\n",
            "epoch: 36, total loss: 425.3089791573584\n",
            "epoch: 37, total loss: 418.1611861921847\n",
            "epoch: 38, total loss: 400.2786012645811\n",
            "epoch: 39, total loss: 393.50015189126134\n",
            "epoch: 40, total loss: 382.83124946337193\n",
            "epoch: 41, total loss: 361.5902992337942\n",
            "epoch: 42, total loss: 347.33845831640065\n",
            "epoch: 43, total loss: 341.1663281926885\n",
            "epoch: 44, total loss: 328.64192872308195\n",
            "epoch: 45, total loss: 319.53553964197636\n",
            "epoch: 46, total loss: 302.59755088668317\n",
            "epoch: 47, total loss: 294.84000520035625\n",
            "epoch: 48, total loss: 283.84250059351325\n",
            "epoch: 49, total loss: 277.8771440703422\n",
            "Finished training, time taken 9.957098219316686 minutes\n"
          ]
        },
        {
          "data": {
            "image/png": "[encoded data removed]",
            "text/plain": [
              "<Figure size 640x480 with 1 Axes>"
            ]
          },
          "metadata": {},
          "output_type": "display_data"
        },
        {
          "data": {
            "image/png": "[encoded data removed]",
            "text/plain": [
              "<Figure size 640x480 with 1 Axes>"
            ]
          },
          "metadata": {},
          "output_type": "display_data"
        }
      ],
      "source": [
        "import matplotlib.pyplot as plt\n",
        "import numpy as np\n",
        "import time\n",
        "\n",
        "total_loss_list = []\n",
        "loss_list = []\n",
        "epochs = 50\n",
        "start = time.perf_counter()\n",
        "\n",
        "print(\"Epochs: \" + str(epochs))\n",
        "print(\"Batch size: \" + str(batch_size))\n",
        "\n",
        "for epoch in range(epochs):  # loop over the dataset multiple times\n",
        "\n",
        "  total_loss = 0\n",
        "\n",
        "  # on each mini-batch, the model uses the same weigths for that current\n",
        "  # mini-batch, hence, the number of times the model weights will be updated\n",
        "  # is given by total_trainset / mini_batch_size\n",
        "\n",
        "  # loop over the dataset and get mini-batch\n",
        "  for mini_batch_num, data in enumerate(trainloader, 0):\n",
        "    images = data[0].to(device)\n",
        "    labels = data[1].to(device)\n",
        "\n",
        "    optimizer.zero_grad() # zero the parameter gradients\n",
        "\n",
        "    preds = model(images) # forward mini-batch\n",
        "    loss = F.cross_entropy(preds, labels) # calculate loss of all the mini-batch\n",
        "\n",
        "    loss_list.append(loss.item()) # track the loss\n",
        "\n",
        "    loss.backward() # calculate gradients with respect to each weight\n",
        "    optimizer.step() # update weights\n",
        "\n",
        "    total_loss += loss.item()\n",
        "\n",
        "  print(f\"epoch: {epoch}, total loss: {total_loss}\")\n",
        "  total_loss_list.append(total_loss)\n",
        "\n",
        "end = time.perf_counter()\n",
        "\n",
        "print(f\"Finished training, time taken {(end-start) / 60} minutes\")\n",
        "\n",
        "# plot the loss rate\n",
        "plt.plot(np.array(loss_list), 'r')\n",
        "plt.ylabel(\"Loss\")\n",
        "plt.xlabel(\"Evaluations\")\n",
        "plt.show()\n",
        "plt.plot(np.array(total_loss_list), 'b')\n",
        "plt.ylabel(\"Total Loss\")\n",
        "plt.xlabel(\"Epoch\")\n",
        "plt.show()"
      ]
    },
    {
      "cell_type": "markdown",
      "metadata": {
        "id": "v7pEHP_9q2_V"
      },
      "source": [
        "Test the neural network"
      ]
    },
    {
      "cell_type": "code",
      "execution_count": 85,
      "metadata": {
        "colab": {
          "base_uri": "https://localhost:8080/"
        },
        "id": "iWvJ5LDhq2Xw",
        "outputId": "36769637-c6ec-48b2-ae24-d27abf8b51f6",
        "tags": []
      },
      "outputs": [
        {
          "name": "stdout",
          "output_type": "stream",
          "text": [
            "Accuracy of the network on the 10000 test images: 79 %\n"
          ]
        }
      ],
      "source": [
        "correct = 0\n",
        "total = 0\n",
        "\n",
        "# since we're not training, we don't need to calculate the gradients for our outputs\n",
        "with torch.no_grad():\n",
        "    for data in testloader:\n",
        "        images, labels = data[0].to(device), data[1].to(device)\n",
        "\n",
        "        # calculate outputs by running images through the network\n",
        "        outputs = model(images)\n",
        "        # the class with the highest energy is what we choose as prediction\n",
        "        _, predicted = torch.max(outputs.data, 1)\n",
        "        total += labels.size(0)\n",
        "        correct += (predicted == labels).sum().item()\n",
        "\n",
        "print(f\"Accuracy of the network on the 10000 test images: {100 * correct // total} %\")"
      ]
    },
    {
      "cell_type": "markdown",
      "metadata": {
        "id": "I9F89EzdDiwb"
      },
      "source": [
        "Save the model"
      ]
    },
    {
      "cell_type": "code",
      "execution_count": 78,
      "metadata": {
        "id": "XtrRdpppJ6T8"
      },
      "outputs": [],
      "source": [
        "PATH = \"../nn-models/cifar10_79accuracy.pth\"\n",
        "# torch.save(model.state_dict(), PATH)"
      ]
    },
    {
      "cell_type": "code",
      "execution_count": 84,
      "metadata": {},
      "outputs": [
        {
          "data": {
            "text/plain": [
              "Net(\n",
              "  (conv1): Conv2d(3, 64, kernel_size=(5, 5), stride=(1, 1), padding=(2, 2))\n",
              "  (batchNorm1): BatchNorm2d(64, eps=1e-05, momentum=0.1, affine=True, track_running_stats=True)\n",
              "  (conv2): Conv2d(64, 128, kernel_size=(5, 5), stride=(1, 1), padding=(2, 2))\n",
              "  (batchNorm2): BatchNorm2d(128, eps=1e-05, momentum=0.1, affine=True, track_running_stats=True)\n",
              "  (conv3): Conv2d(128, 128, kernel_size=(5, 5), stride=(1, 1), padding=(2, 2))\n",
              "  (batchNorm3): BatchNorm2d(128, eps=1e-05, momentum=0.1, affine=True, track_running_stats=True)\n",
              "  (fc1): Linear(in_features=2048, out_features=2048, bias=True)\n",
              "  (batchNorm4): BatchNorm1d(2048, eps=1e-05, momentum=0.1, affine=True, track_running_stats=True)\n",
              "  (fc2): Linear(in_features=2048, out_features=2048, bias=True)\n",
              "  (batchNorm5): BatchNorm1d(2048, eps=1e-05, momentum=0.1, affine=True, track_running_stats=True)\n",
              "  (fc3): Linear(in_features=2048, out_features=10, bias=True)\n",
              ")"
            ]
          },
          "execution_count": 84,
          "metadata": {},
          "output_type": "execute_result"
        }
      ],
      "source": [
        "# load the model\n",
        "model = Net()\n",
        "model.load_state_dict(torch.load(PATH))\n",
        "model.to(device=device)"
      ]
    },
    {
      "cell_type": "markdown",
      "metadata": {
        "id": "8dccyb6ZRn7z"
      },
      "source": [
        "Stochastic Gradient Descent with Momentum"
      ]
    },
    {
      "cell_type": "code",
      "execution_count": null,
      "metadata": {
        "colab": {
          "base_uri": "https://localhost:8080/",
          "height": 1000
        },
        "id": "tCCYz3w3RsgT",
        "outputId": "3376056a-40e6-4e74-81e8-330deab05941"
      },
      "outputs": [],
      "source": [
        "import torch\n",
        "import torch.optim as optim\n",
        "import torch.nn as nn\n",
        "\n",
        "torch.manual_seed(1)\n",
        "\n",
        "# load the model\n",
        "model = Net()\n",
        "model.load_state_dict(torch.load(PATH))\n",
        "\n",
        "# freeze all the parameters in the network\n",
        "for param in model.parameters():\n",
        "  param.requires_grad = False\n",
        "\n",
        "# unfreeze all the parameters from the last layer and randomize the weights\n",
        "for param in model.fc2.parameters():\n",
        "  param.requires_grad = True\n",
        "  param.data = torch.rand(param.size())\n",
        "\n",
        "# set optimizer\n",
        "optimizer = optim.SGD(model.parameters(), lr=0.01, momentum=0.9)\n",
        "\n",
        "model.to(device)\n",
        "\n",
        "# train the neural network\n",
        "import matplotlib.pyplot as plt\n",
        "import numpy as np\n",
        "import time\n",
        "\n",
        "total_loss_list = []\n",
        "loss_list = []\n",
        "epochs = 15\n",
        "start = time.perf_counter()\n",
        "\n",
        "print(\"Epochs: \" + str(epochs))\n",
        "print(\"Batch size: \" + str(batch_size))\n",
        "\n",
        "for epoch in range(epochs):  # loop over the dataset multiple times\n",
        "\n",
        "  total_loss = 0\n",
        "\n",
        "  # on each mini-batch, the model uses the same weigths for that current\n",
        "  # mini-batch, hence, the number of times the model weights will be updated\n",
        "  # is given by total_trainset / mini_batch_size\n",
        "\n",
        "  # loop over the dataset and get mini-batch\n",
        "  for mini_batch_num, data in enumerate(trainloader, 0):\n",
        "    images = data[0].to(device)\n",
        "    labels = data[1].to(device)\n",
        "\n",
        "    optimizer.zero_grad() # zero the parameter gradients\n",
        "\n",
        "    preds = model(images) # forward mini-batch\n",
        "    loss = F.cross_entropy(preds, labels) # calculate loss of all the mini-batch\n",
        "\n",
        "    loss_list.append(loss.item()) # track the loss\n",
        "\n",
        "    loss.backward() # calculate gradients with respect to each weight\n",
        "    optimizer.step() # update weights\n",
        "\n",
        "    total_loss += loss.item()\n",
        "\n",
        "  print(f\"epoch: {epoch}, total loss: {total_loss}\")\n",
        "  total_loss_list.append(total_loss)\n",
        "\n",
        "end = time.perf_counter()\n",
        "\n",
        "print(f\"Finished training, time taken {end-start} seconds\")\n",
        "\n",
        "# plot the loss rate\n",
        "plt.plot(np.array(loss_list), 'r')\n",
        "plt.ylabel(\"Loss\")\n",
        "plt.xlabel(\"Evaluations\")\n",
        "plt.show()\n",
        "plt.plot(np.array(total_loss_list), 'b')\n",
        "plt.ylabel(\"Total Loss\")\n",
        "plt.xlabel(\"Epoch\")\n",
        "plt.show()\n",
        "\n",
        "# test the neurla network\n",
        "correct = 0\n",
        "total = 0\n",
        "\n",
        "# since we're not training, we don't need to calculate the gradients for our outputs\n",
        "with torch.no_grad():\n",
        "    for data in testloader:\n",
        "        images, labels = data[0].to(device), data[1].to(device)\n",
        "\n",
        "        # calculate outputs by running images through the network\n",
        "        outputs = model(images)\n",
        "        # the class with the highest energy is what we choose as prediction\n",
        "        _, predicted = torch.max(outputs.data, 1)\n",
        "        total += labels.size(0)\n",
        "        correct += (predicted == labels).sum().item()\n",
        "\n",
        "print(f\"Accuracy of the network on the 10000 test images: {100 * correct // total} %\")"
      ]
    },
    {
      "cell_type": "markdown",
      "metadata": {
        "id": "q-8gz93HRj3O"
      },
      "source": [
        "Particle Swarm Optimization"
      ]
    },
    {
      "cell_type": "code",
      "execution_count": null,
      "metadata": {
        "id": "9mS1aM7B_JXx"
      },
      "outputs": [],
      "source": [
        "# import operator\n",
        "# import random\n",
        "# import numpy\n",
        "# import math\n",
        "# from deap import base\n",
        "# from deap import benchmarks\n",
        "# from deap import creator\n",
        "# from deap import tools\n",
        "\n",
        "# # all the parameters from the last layer will be the decision variables\n",
        "# # the fitness will be the loss function, i.e. cross entropy\n",
        "\n",
        "# DIMENSIONS = len(model.fc2.parameters())\n",
        "# GENERATIONS = 100\n",
        "\n",
        "# POPULATIONS_SIZE = 50\n",
        "# C1 = 2.0\n",
        "# C2 = 2.0\n",
        "\n",
        "# max_weight = 0.9\n",
        "# min_weight = 0.4\n",
        "# init_min_position = -1 # minimum decision variable value\n",
        "# init_max_position = 1 # maximum decision variable value\n",
        "# init_min_velocity = 0.5 # minimum velocity a particle can have at initilisation\n",
        "# init_max_velocity = 1.5 # maximum velocity a particle can have at initilisation\n",
        "\n",
        "# creator.create(\"FitnessMin\", base.Fitness, weights=(-1.0,)) # -1 is for minimise\n",
        "# creator.create(\"Particle\",\n",
        "#                list, # current solution (i.e. NN parameters)\n",
        "#                fitness=creator.FitnessMin, # current fitness\n",
        "#                velocity=list, # current velocity (different velocity per decision variable / NN parameter)\n",
        "#                min_velocity=None, # velocity clamping values\n",
        "#                max_velocity=None, # velocity clamping values\n",
        "#                personal_best=None\n",
        "#                )\n",
        "\n",
        "# def generate_particle(dimensions, min_velocity, max_velocity):\n",
        "#   # set the intial solution (NN parameters)\n",
        "#   particle = creator.Particle(random.uniform(init_min_position, init_max_position) for _ in range(dimensions))\n",
        "\n",
        "#   # set the initial velocity\n",
        "#   particle.velocity = [random.uniform(init_min_velocity, init_max_velocity)]\n",
        "\n",
        "#   # velocity clamping\n",
        "#   particle.min_velocity = min_velocity\n",
        "#   particle.max_velocity = max_velocity\n",
        "\n",
        "# def objective_function():\n",
        "#   return nn.\n",
        "# # create a population of random particles\n",
        "# population = []\n",
        "# for _ in range(POPULATIONS_SIZE):\n",
        "#   population.append(generate_particle(dimensions=DIMENSIONS))\n",
        "\n",
        "# for g in range(GENERATIONS):\n",
        "#   # decaying inertia weight\n",
        "#   weight = max_weight - (max_weight - min_weight) * g / GENERATIONS\n",
        "\n",
        "#   for particle in population:\n",
        "#     # evaluate fitness value\n",
        "#     particle.fitness.values =\n",
        "\n",
        "#     # check if the fitness value is better than personal best\n",
        "\n",
        "# # set the best of the personal best as the global best\n",
        "\n",
        "# ## update the particles velocity -> v(t+1) =\n",
        "# # w*v(t)\n",
        "# # + c1*r1(t) (pbest - x(t))\n",
        "# # + c2*r2(t) (gbest - x(t))\n",
        "\n",
        "# # w -> inertia decaying weight\n",
        "# # c1 and c2 -> constants\n",
        "# # r1(t) and r2(t) -> uniformly distributed random number between [0,1]\n",
        "# #                    each time instant, for each particle, and for each\n",
        "# #                    dimension\n",
        "# # pbest -> personal best solution of the current particle (n-dimensional vector)\n",
        "# # gbest -> global best solution (n-dimensional vector)\n",
        "# # n -> number of decision variables (parameters)\n",
        "\n",
        "# ## update the particles positions (parameters)\n",
        "\n",
        "\n",
        "import torch\n",
        "import torch.optim as optim\n",
        "import torch.nn as nn\n",
        "\n",
        "torch.manual_seed(1)\n",
        "\n",
        "# load the model\n",
        "model = Net()\n",
        "model.load_state_dict(torch.load(PATH))\n",
        "\n",
        "# freeze all the parameters in the network\n",
        "for param in model.parameters():\n",
        "  param.requires_grad = False\n",
        "\n",
        "# unfreeze all the parameters from the last layer and randomize the weights\n",
        "for param in model.fc2.parameters():\n",
        "  param.requires_grad = True\n",
        "  param.data = torch.rand(param.size())\n",
        "\n",
        "# set optimizer\n",
        "optimizer = optim.SGD(model.parameters(), lr=0.01, momentum=0.9)\n",
        "\n",
        "model.to(device)\n",
        "\n",
        "# train the neural network\n",
        "import matplotlib.pyplot as plt\n",
        "import numpy as np\n",
        "import time\n",
        "\n",
        "total_loss_list = []\n",
        "loss_list = []\n",
        "epochs = 15\n",
        "start = time.perf_counter()\n",
        "\n",
        "print(\"Epochs: \" + str(epochs))\n",
        "print(\"Batch size: \" + str(batch_size))\n",
        "\n",
        "for epoch in range(epochs):  # loop over the dataset multiple times\n",
        "\n",
        "  total_loss = 0\n",
        "\n",
        "  # on each mini-batch, the model uses the same weigths for that current\n",
        "  # mini-batch, hence, the number of times the model weights will be updated\n",
        "  # is given by total_trainset / mini_batch_size\n",
        "\n",
        "  # loop over the dataset and get mini-batch\n",
        "  for mini_batch_num, data in enumerate(trainloader, 0):\n",
        "    images = data[0].to(device)\n",
        "    labels = data[1].to(device)\n",
        "\n",
        "    optimizer.zero_grad() # zero the parameter gradients\n",
        "\n",
        "    preds = model(images) # forward mini-batch\n",
        "    loss = F.cross_entropy(preds, labels) # calculate loss of all the mini-batch\n",
        "\n",
        "    loss_list.append(loss.item()) # track the loss\n",
        "\n",
        "    loss.backward() # calculate gradients with respect to each weight\n",
        "    optimizer.step() # update weights\n",
        "\n",
        "    total_loss += loss.item()\n",
        "\n",
        "  print(f\"epoch: {epoch}, total loss: {total_loss}\")\n",
        "  total_loss_list.append(total_loss)\n",
        "\n",
        "end = time.perf_counter()\n",
        "\n",
        "print(f\"Finished training, time taken {end-start} seconds\")\n",
        "\n",
        "# plot the loss rate\n",
        "plt.plot(np.array(loss_list), 'r')\n",
        "plt.ylabel(\"Loss\")\n",
        "plt.xlabel(\"Evaluations\")\n",
        "plt.show()\n",
        "plt.plot(np.array(total_loss_list), 'b')\n",
        "plt.ylabel(\"Total Loss\")\n",
        "plt.xlabel(\"Epoch\")\n",
        "plt.show()\n",
        "\n",
        "# test the neurla network\n",
        "correct = 0\n",
        "total = 0\n",
        "\n",
        "# since we're not training, we don't need to calculate the gradients for our outputs\n",
        "with torch.no_grad():\n",
        "    for data in testloader:\n",
        "        images, labels = data[0].to(device), data[1].to(device)\n",
        "\n",
        "        # calculate outputs by running images through the network\n",
        "        outputs = model(images)\n",
        "        # the class with the highest energy is what we choose as prediction\n",
        "        _, predicted = torch.max(outputs.data, 1)\n",
        "        total += labels.size(0)\n",
        "        correct += (predicted == labels).sum().item()\n",
        "\n",
        "print(f\"Accuracy of the network on the 10000 test images: {100 * correct // total} %\")\n"
      ]
    }
  ],
  "metadata": {
    "colab": {
      "provenance": []
    },
    "kernelspec": {
      "display_name": "Python 3",
      "name": "python3"
    },
    "language_info": {
      "codemirror_mode": {
        "name": "ipython",
        "version": 3
      },
      "file_extension": ".py",
      "mimetype": "text/x-python",
      "name": "python",
      "nbconvert_exporter": "python",
      "pygments_lexer": "ipython3",
      "version": "3.10.12"
    },
    "vscode": {
      "interpreter": {
        "hash": "31f2aee4e71d21fbe5cf8b01ff0e069b9275f58929596ceb00d14d90e3e16cd6"
      }
    }
  },
  "nbformat": 4,
  "nbformat_minor": 0
}
