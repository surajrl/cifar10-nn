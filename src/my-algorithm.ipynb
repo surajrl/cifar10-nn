{
 "cells": [
  {
   "cell_type": "code",
   "execution_count": null,
   "metadata": {},
   "outputs": [],
   "source": [
    "import torch\n",
    "import torch.nn as nn\n",
    "import torch.nn.functional as F\n",
    "import torchvision\n",
    "import torchvision.transforms as transforms\n",
    "import matplotlib.pyplot as plt\n",
    "import numpy as np\n",
    "from nn_utils import Net, DEVICE, TRAINLOADER, train_nn, test_nn, freeze_parameters\n",
    "\n",
    "torch.cuda.empty_cache()\n",
    "\n",
    "PATH = './nn-models/cifar10-nn-model'\n",
    "\n",
    "# load the pretrained NN model\n",
    "net = Net()\n",
    "net.load_state_dict(torch.load(PATH))\n",
    "net.to(device=DEVICE)\n",
    "\n",
    "test_nn(net=net, verbose=True)"
   ]
  },
  {
   "cell_type": "code",
   "execution_count": null,
   "metadata": {},
   "outputs": [],
   "source": [
    "eta = 0.01 # learning rate\n",
    "rho = 2 # neigborhood size\n",
    "\n",
    "optimizer = torch.optim.SGD(net.parameters(), lr=0.01)\n",
    "\n",
    "accuracy_per_epoch_track = []\n",
    "loss_per_epoch_track = []\n",
    "\n",
    "# loop over the dataset multiple times\n",
    "for epoch in range(4):\n",
    "    running_loss = 0\n",
    "    # loop over the dataset by mini-batch\n",
    "    for mini_batch in TRAINLOADER:\n",
    "        images = mini_batch[0].to(DEVICE)\n",
    "        labels = mini_batch[1].to(DEVICE)\n",
    "\n",
    "        # optimizer.zero_grad() # zero the parameter gradients\n",
    "\n",
    "        preds = net(images) # forward mini-batch\n",
    "        \n",
    "        # compute gradient of the mini-batch's training loss\n",
    "        loss = F.cross_entropy(preds, labels) # training loss\n",
    "        loss.backward() # gradient with respect to each weight\n",
    "\n",
    "        # compute epsilon\n",
    "        e = rho * loss.grad\n",
    "        # optimizer.step() # update weights\n",
    "        \n",
    "        running_loss += loss.item()\n",
    "\n",
    "    accuracy = test_nn(net=net, verbose=False)\n",
    "        \n",
    "    # track\n",
    "    accuracy_per_epoch_track.append(accuracy)\n",
    "    loss_per_epoch_track.append(running_loss)\n",
    "\n",
    "    print(f'Epoch: {epoch} -- Loss: {loss_per_epoch_track[-1]} -- Accuracy: {accuracy_per_epoch_track[-1]}')"
   ]
  }
 ],
 "metadata": {
  "kernelspec": {
   "display_name": "Python 3.10.12 64-bit",
   "language": "python",
   "name": "python3"
  },
  "language_info": {
   "name": "python",
   "version": "3.10.12"
  },
  "orig_nbformat": 4,
  "vscode": {
   "interpreter": {
    "hash": "916dbcbb3f70747c44a77c7bcd40155683ae19c65e1c03b4aa3499c5328201f1"
   }
  }
 },
 "nbformat": 4,
 "nbformat_minor": 2
}
