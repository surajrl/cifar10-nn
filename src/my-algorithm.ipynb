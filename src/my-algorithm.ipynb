{
 "cells": [
  {
   "cell_type": "code",
   "execution_count": 1,
   "metadata": {},
   "outputs": [
    {
     "name": "stdout",
     "output_type": "stream",
     "text": [
      "Files already downloaded and verified\n",
      "Files already downloaded and verified\n"
     ]
    },
    {
     "data": {
      "text/plain": [
       "Net(\n",
       "  (conv1): Conv2d(3, 64, kernel_size=(3, 3), stride=(1, 1), padding=(1, 1))\n",
       "  (batchNorm1): BatchNorm2d(64, eps=1e-05, momentum=0.1, affine=True, track_running_stats=True)\n",
       "  (conv2): Conv2d(64, 128, kernel_size=(3, 3), stride=(1, 1), padding=(1, 1))\n",
       "  (batchNorm2): BatchNorm2d(128, eps=1e-05, momentum=0.1, affine=True, track_running_stats=True)\n",
       "  (conv3): Conv2d(128, 128, kernel_size=(3, 3), stride=(1, 1), padding=(1, 1))\n",
       "  (batchNorm3): BatchNorm2d(128, eps=1e-05, momentum=0.1, affine=True, track_running_stats=True)\n",
       "  (conv4): Conv2d(128, 128, kernel_size=(3, 3), stride=(1, 1), padding=(1, 1))\n",
       "  (batchNorm4): BatchNorm2d(128, eps=1e-05, momentum=0.1, affine=True, track_running_stats=True)\n",
       "  (conv5): Conv2d(128, 256, kernel_size=(3, 3), stride=(1, 1), padding=(1, 1))\n",
       "  (batchNorm5): BatchNorm2d(256, eps=1e-05, momentum=0.1, affine=True, track_running_stats=True)\n",
       "  (conv6): Conv2d(256, 512, kernel_size=(3, 3), stride=(1, 1), padding=(1, 1))\n",
       "  (batchNorm6): BatchNorm2d(512, eps=1e-05, momentum=0.1, affine=True, track_running_stats=True)\n",
       "  (conv7): Conv2d(512, 512, kernel_size=(3, 3), stride=(1, 1), padding=(1, 1))\n",
       "  (batchNorm7): BatchNorm2d(512, eps=1e-05, momentum=0.1, affine=True, track_running_stats=True)\n",
       "  (conv8): Conv2d(512, 512, kernel_size=(3, 3), stride=(1, 1), padding=(1, 1))\n",
       "  (batchNorm8): BatchNorm2d(512, eps=1e-05, momentum=0.1, affine=True, track_running_stats=True)\n",
       "  (out): Linear(in_features=512, out_features=10, bias=True)\n",
       ")"
      ]
     },
     "execution_count": 1,
     "metadata": {},
     "output_type": "execute_result"
    }
   ],
   "source": [
    "import torch\n",
    "import torch.nn as nn\n",
    "import torch.nn.functional as F\n",
    "import torchvision\n",
    "import torchvision.transforms as transforms\n",
    "import matplotlib.pyplot as plt\n",
    "import numpy as np\n",
    "from nn_utils import Net, DEVICE, TRAINLOADER, train_nn, test_nn, freeze_parameters\n",
    "\n",
    "torch.cuda.empty_cache()\n",
    "\n",
    "PATH = './nn-models/cifar10-nn-model'\n",
    "\n",
    "# load the pretrained NN model\n",
    "net = Net()\n",
    "net.load_state_dict(torch.load(PATH))\n",
    "net.to(device=DEVICE)"
   ]
  },
  {
   "cell_type": "code",
   "execution_count": 2,
   "metadata": {},
   "outputs": [],
   "source": [
    "import sam"
   ]
  },
  {
   "cell_type": "code",
   "execution_count": 3,
   "metadata": {},
   "outputs": [
    {
     "name": "stdout",
     "output_type": "stream",
     "text": [
      "Epoch: 0 -- Loss: 1802.0426481962204 -- Accuracy: 57\n",
      "Epoch: 1 -- Loss: 573.5988614559174 -- Accuracy: 67\n",
      "Epoch: 2 -- Loss: 321.6241240054369 -- Accuracy: 72\n",
      "Epoch: 3 -- Loss: 211.65936678647995 -- Accuracy: 74\n",
      "Epoch: 4 -- Loss: 148.8118852674961 -- Accuracy: 75\n",
      "Epoch: 5 -- Loss: 109.58709641546011 -- Accuracy: 77\n",
      "Epoch: 6 -- Loss: 85.61287180706859 -- Accuracy: 77\n",
      "Epoch: 7 -- Loss: 67.4212055914104 -- Accuracy: 78\n",
      "Epoch: 8 -- Loss: 54.6455521825701 -- Accuracy: 79\n",
      "Epoch: 9 -- Loss: 43.0169026828371 -- Accuracy: 79\n",
      "Epoch: 10 -- Loss: 38.028302820399404 -- Accuracy: 79\n",
      "Epoch: 11 -- Loss: 30.778166708536446 -- Accuracy: 80\n",
      "Epoch: 12 -- Loss: 26.979544115252793 -- Accuracy: 80\n",
      "Epoch: 13 -- Loss: 22.319208657252602 -- Accuracy: 80\n",
      "Epoch: 14 -- Loss: 18.8590752807213 -- Accuracy: 80\n",
      "Epoch: 15 -- Loss: 17.548065606039017 -- Accuracy: 80\n",
      "Epoch: 16 -- Loss: 13.532572646159679 -- Accuracy: 80\n",
      "Epoch: 17 -- Loss: 12.58299790439196 -- Accuracy: 81\n",
      "Epoch: 18 -- Loss: 11.146079835569253 -- Accuracy: 81\n",
      "Epoch: 19 -- Loss: 9.358537133055506 -- Accuracy: 81\n",
      "Epoch: 20 -- Loss: 7.9001707606366836 -- Accuracy: 81\n",
      "Epoch: 21 -- Loss: 6.95815162431245 -- Accuracy: 81\n",
      "Epoch: 22 -- Loss: 6.676137673250196 -- Accuracy: 81\n",
      "Epoch: 23 -- Loss: 4.998542804787576 -- Accuracy: 81\n",
      "Epoch: 24 -- Loss: 4.634872621989416 -- Accuracy: 81\n",
      "Epoch: 25 -- Loss: 4.203400751179288 -- Accuracy: 81\n",
      "Epoch: 26 -- Loss: 3.2956885922467336 -- Accuracy: 81\n",
      "Epoch: 27 -- Loss: 3.184808142296788 -- Accuracy: 81\n",
      "Epoch: 28 -- Loss: 3.0399568786961026 -- Accuracy: 82\n",
      "Epoch: 29 -- Loss: 2.3512680171019156 -- Accuracy: 81\n",
      "Epoch: 30 -- Loss: 2.6607022560310725 -- Accuracy: 82\n",
      "Epoch: 31 -- Loss: 2.109876322886521 -- Accuracy: 82\n",
      "Epoch: 32 -- Loss: 1.822311229824436 -- Accuracy: 82\n",
      "Epoch: 33 -- Loss: 1.3861078697295852 -- Accuracy: 82\n",
      "Epoch: 34 -- Loss: 0.9993443976266008 -- Accuracy: 82\n",
      "Epoch: 35 -- Loss: 1.5873636276663774 -- Accuracy: 82\n",
      "Epoch: 36 -- Loss: 1.6093435716414888 -- Accuracy: 82\n",
      "Epoch: 37 -- Loss: 1.9132568086497486 -- Accuracy: 82\n",
      "Epoch: 38 -- Loss: 0.943894985679492 -- Accuracy: 82\n",
      "Epoch: 39 -- Loss: 1.1287961188631357 -- Accuracy: 82\n",
      "Epoch: 40 -- Loss: 0.8910323074008488 -- Accuracy: 82\n",
      "Epoch: 41 -- Loss: 0.7928954123690772 -- Accuracy: 82\n",
      "Epoch: 42 -- Loss: 1.0208173363138258 -- Accuracy: 82\n",
      "Epoch: 43 -- Loss: 0.7288765539331052 -- Accuracy: 82\n",
      "Epoch: 44 -- Loss: 0.5632822822273056 -- Accuracy: 82\n",
      "Epoch: 45 -- Loss: 1.6599455691501817 -- Accuracy: 82\n",
      "Epoch: 46 -- Loss: 0.5937089690969515 -- Accuracy: 82\n",
      "Epoch: 47 -- Loss: 1.0018168833264838 -- Accuracy: 82\n",
      "Epoch: 48 -- Loss: 0.9371350371755085 -- Accuracy: 82\n",
      "Epoch: 49 -- Loss: 0.21698577981497635 -- Accuracy: 82\n"
     ]
    }
   ],
   "source": [
    "\n",
    "# print(f'Accuracy before freezing and randomizing: {test_nn(net=net, verbose=False)}')\n",
    "freeze_parameters(net=net)\n",
    "# print(f'Accuracy after freezing and randomizing: {test_nn(net=net, verbose=False)}')\n",
    "\n",
    "eta = 0.01 # learning rate\n",
    "rho = 2 # neigborhood size\n",
    "\n",
    "base_optimizer = torch.optim.Adam\n",
    "sam_optimizer = sam.SAM(net.parameters(), base_optimizer=base_optimizer)\n",
    "\n",
    "accuracy_per_epoch_track = []\n",
    "loss_per_epoch_track = []\n",
    "\n",
    "# loop over the dataset multiple times\n",
    "for epoch in range(50):\n",
    "    running_loss = 0\n",
    "    # loop over the dataset by mini-batch\n",
    "    for mini_batch in TRAINLOADER:\n",
    "        images = mini_batch[0].to(DEVICE)\n",
    "        labels = mini_batch[1].to(DEVICE)\n",
    "\n",
    "        preds = net(images) # forward mini-batch\n",
    "        loss = F.cross_entropy(preds, labels)\n",
    "        loss.backward()\n",
    "        sam_optimizer.first_step(zero_grad=True)\n",
    "\n",
    "        preds = net(images) # forward mini-batch\n",
    "        loss = F.cross_entropy(preds, labels)\n",
    "        loss.backward()\n",
    "        sam_optimizer.second_step(zero_grad=True)\n",
    "\n",
    "        running_loss += loss.item()\n",
    "\n",
    "    accuracy = test_nn(net=net, verbose=False)\n",
    "        \n",
    "    # track\n",
    "    accuracy_per_epoch_track.append(accuracy)\n",
    "    loss_per_epoch_track.append(running_loss)\n",
    "\n",
    "    print(f'Epoch: {epoch} -- Loss: {loss_per_epoch_track[-1]} -- Accuracy: {accuracy_per_epoch_track[-1]}')"
   ]
  }
 ],
 "metadata": {
  "kernelspec": {
   "display_name": "Python 3.10.12 64-bit",
   "language": "python",
   "name": "python3"
  },
  "language_info": {
   "codemirror_mode": {
    "name": "ipython",
    "version": 3
   },
   "file_extension": ".py",
   "mimetype": "text/x-python",
   "name": "python",
   "nbconvert_exporter": "python",
   "pygments_lexer": "ipython3",
   "version": "3.10.12"
  },
  "orig_nbformat": 4,
  "vscode": {
   "interpreter": {
    "hash": "916dbcbb3f70747c44a77c7bcd40155683ae19c65e1c03b4aa3499c5328201f1"
   }
  }
 },
 "nbformat": 4,
 "nbformat_minor": 2
}
